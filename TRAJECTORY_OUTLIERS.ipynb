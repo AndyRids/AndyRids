{
  "nbformat": 4,
  "nbformat_minor": 0,
  "metadata": {
    "colab": {
      "provenance": [],
      "authorship_tag": "ABX9TyM9YBYEMztiyYLBslIxST/I",
      "include_colab_link": true
    },
    "kernelspec": {
      "name": "python3",
      "display_name": "Python 3"
    },
    "language_info": {
      "name": "python"
    },
    "widgets": {
      "application/vnd.jupyter.widget-state+json": {
        "880da1808d8f4319a81c4a79711e3447": {
          "model_module": "jupyter-leaflet",
          "model_name": "LeafletMapModel",
          "model_module_version": "^0.18",
          "state": {
            "_dom_classes": [],
            "_model_module": "jupyter-leaflet",
            "_model_module_version": "^0.18",
            "_model_name": "LeafletMapModel",
            "_view_count": null,
            "_view_module": "jupyter-leaflet",
            "_view_module_version": "^0.18",
            "_view_name": "LeafletMapView",
            "bottom": 22091759,
            "bounce_at_zoom_limits": true,
            "box_zoom": true,
            "center": [
              52.24886,
              0.16025
            ],
            "close_popup_on_click": true,
            "controls": [
              "IPY_MODEL_1c4d9bfe6f0c45299dcb272d418f3c58",
              "IPY_MODEL_9df4993627cf42798bcd5e76729ef66d"
            ],
            "crs": {
              "name": "EPSG3857",
              "custom": false
            },
            "default_style": "IPY_MODEL_47a7d96b539c4cd09bdc57abd4ba7ef2",
            "double_click_zoom": true,
            "dragging": true,
            "dragging_style": "IPY_MODEL_7472731d467047b08eab8decc9d43f66",
            "east": 0.16132414340972903,
            "fullscreen": false,
            "inertia": true,
            "inertia_deceleration": 3000,
            "inertia_max_speed": 1500,
            "interpolation": "bilinear",
            "keyboard": true,
            "keyboard_pan_offset": 80,
            "keyboard_zoom_offset": 1,
            "layers": [
              "IPY_MODEL_bb53ed5a73054262937eb720bb47745b",
              "IPY_MODEL_b182c62cbd0d4e3b8e36e37df6a819c9",
              "IPY_MODEL_8309527dbfd74352b02e130fdadc58aa"
            ],
            "layout": "IPY_MODEL_60c21fd46966433e8443dd2f4e9c0f5e",
            "left": 33584105,
            "max_zoom": null,
            "min_zoom": null,
            "modisdate": "2024-02-24",
            "north": 52.24968095591328,
            "options": [
              "bounce_at_zoom_limits",
              "box_zoom",
              "center",
              "close_popup_on_click",
              "double_click_zoom",
              "dragging",
              "fullscreen",
              "inertia",
              "inertia_deceleration",
              "inertia_max_speed",
              "interpolation",
              "keyboard",
              "keyboard_pan_offset",
              "keyboard_zoom_offset",
              "max_zoom",
              "min_zoom",
              "prefer_canvas",
              "scroll_wheel_zoom",
              "tap",
              "tap_tolerance",
              "touch_zoom",
              "world_copy_jump",
              "zoom",
              "zoom_animation_threshold",
              "zoom_delta",
              "zoom_snap"
            ],
            "panes": {},
            "prefer_canvas": false,
            "right": 33584505,
            "scroll_wheel_zoom": true,
            "south": 52.24803881900518,
            "style": "IPY_MODEL_9f1a6b48861347e48a1889b170edcc90",
            "tap": true,
            "tap_tolerance": 15,
            "top": 22091259,
            "touch_zoom": true,
            "west": 0.15917837619781497,
            "window_url": "https://o35lgeu3ubh-496ff2e9c6d22116-0-colab.googleusercontent.com/outputframe.html?vrz=colab_20240222-060134_RC00_609312108",
            "world_copy_jump": false,
            "zoom": 18,
            "zoom_animation_threshold": 4,
            "zoom_delta": 1,
            "zoom_snap": 1
          }
        },
        "1c4d9bfe6f0c45299dcb272d418f3c58": {
          "model_module": "jupyter-leaflet",
          "model_name": "LeafletZoomControlModel",
          "model_module_version": "^0.18",
          "state": {
            "_model_module": "jupyter-leaflet",
            "_model_module_version": "^0.18",
            "_model_name": "LeafletZoomControlModel",
            "_view_count": null,
            "_view_module": "jupyter-leaflet",
            "_view_module_version": "^0.18",
            "_view_name": "LeafletZoomControlView",
            "options": [
              "position",
              "zoom_in_text",
              "zoom_in_title",
              "zoom_out_text",
              "zoom_out_title"
            ],
            "position": "topleft",
            "zoom_in_text": "+",
            "zoom_in_title": "Zoom in",
            "zoom_out_text": "-",
            "zoom_out_title": "Zoom out"
          }
        },
        "9df4993627cf42798bcd5e76729ef66d": {
          "model_module": "jupyter-leaflet",
          "model_name": "LeafletAttributionControlModel",
          "model_module_version": "^0.18",
          "state": {
            "_model_module": "jupyter-leaflet",
            "_model_module_version": "^0.18",
            "_model_name": "LeafletAttributionControlModel",
            "_view_count": null,
            "_view_module": "jupyter-leaflet",
            "_view_module_version": "^0.18",
            "_view_name": "LeafletAttributionControlView",
            "options": [
              "position",
              "prefix"
            ],
            "position": "bottomright",
            "prefix": "ipyleaflet"
          }
        },
        "47a7d96b539c4cd09bdc57abd4ba7ef2": {
          "model_module": "jupyter-leaflet",
          "model_name": "LeafletMapStyleModel",
          "model_module_version": "^0.18",
          "state": {
            "_model_module": "jupyter-leaflet",
            "_model_module_version": "^0.18",
            "_model_name": "LeafletMapStyleModel",
            "_view_count": null,
            "_view_module": "@jupyter-widgets/base",
            "_view_module_version": "1.2.0",
            "_view_name": "StyleView",
            "cursor": "grab"
          }
        },
        "7472731d467047b08eab8decc9d43f66": {
          "model_module": "jupyter-leaflet",
          "model_name": "LeafletMapStyleModel",
          "model_module_version": "^0.18",
          "state": {
            "_model_module": "jupyter-leaflet",
            "_model_module_version": "^0.18",
            "_model_name": "LeafletMapStyleModel",
            "_view_count": null,
            "_view_module": "@jupyter-widgets/base",
            "_view_module_version": "1.2.0",
            "_view_name": "StyleView",
            "cursor": "move"
          }
        },
        "bb53ed5a73054262937eb720bb47745b": {
          "model_module": "jupyter-leaflet",
          "model_name": "LeafletTileLayerModel",
          "model_module_version": "^0.18",
          "state": {
            "_model_module": "jupyter-leaflet",
            "_model_module_version": "^0.18",
            "_model_name": "LeafletTileLayerModel",
            "_view_count": null,
            "_view_module": "jupyter-leaflet",
            "_view_module_version": "^0.18",
            "_view_name": "LeafletTileLayerView",
            "attribution": "&copy; <a href=\"https://www.openstreetmap.org/copyright\">OpenStreetMap</a> contributors",
            "base": true,
            "bottom": true,
            "bounds": null,
            "detect_retina": false,
            "loading": false,
            "max_native_zoom": null,
            "max_zoom": 19,
            "min_native_zoom": null,
            "min_zoom": 1,
            "name": "OpenStreetMap.Mapnik",
            "no_wrap": false,
            "opacity": 1,
            "options": [
              "attribution",
              "bounds",
              "detect_retina",
              "max_native_zoom",
              "max_zoom",
              "min_native_zoom",
              "min_zoom",
              "no_wrap",
              "tile_size",
              "tms",
              "zoom_offset"
            ],
            "pane": "",
            "popup": null,
            "popup_max_height": null,
            "popup_max_width": 300,
            "popup_min_width": 50,
            "show_loading": false,
            "subitems": [],
            "tile_size": 256,
            "tms": false,
            "url": "https://tile.openstreetmap.org/{z}/{x}/{y}.png",
            "visible": true,
            "zoom_offset": 0
          }
        },
        "b182c62cbd0d4e3b8e36e37df6a819c9": {
          "model_module": "jupyter-leaflet",
          "model_name": "LeafletGeoJSONModel",
          "model_module_version": "^0.18",
          "state": {
            "_model_module": "jupyter-leaflet",
            "_model_module_version": "^0.18",
            "_model_name": "LeafletGeoJSONModel",
            "_view_count": null,
            "_view_module": "jupyter-leaflet",
            "_view_module_version": "^0.18",
            "_view_name": "LeafletGeoJSONView",
            "base": false,
            "bottom": false,
            "data": {
              "type": "FeatureCollection",
              "features": [
                {
                  "id": "0",
                  "type": "Feature",
                  "properties": {
                    "LAT_DD": 52.24947,
                    "LONG_DD": 0.16015,
                    "DIST_NEXT_M": null,
                    "SW_NOISE": false,
                    "style": {}
                  },
                  "geometry": {
                    "type": "Point",
                    "coordinates": [
                      0.16015,
                      52.24947
                    ]
                  }
                },
                {
                  "id": "1",
                  "type": "Feature",
                  "properties": {
                    "LAT_DD": 52.24938,
                    "LONG_DD": 0.16001,
                    "DIST_NEXT_M": 12.414489384575443,
                    "SW_NOISE": false,
                    "style": {}
                  },
                  "geometry": {
                    "type": "Point",
                    "coordinates": [
                      0.16001,
                      52.24938
                    ]
                  }
                },
                {
                  "id": "2",
                  "type": "Feature",
                  "properties": {
                    "LAT_DD": 52.2493,
                    "LONG_DD": 0.15992,
                    "DIST_NEXT_M": 9.34457259405251,
                    "SW_NOISE": false,
                    "style": {}
                  },
                  "geometry": {
                    "type": "Point",
                    "coordinates": [
                      0.15992,
                      52.2493
                    ]
                  }
                },
                {
                  "id": "3",
                  "type": "Feature",
                  "properties": {
                    "LAT_DD": 52.2492,
                    "LONG_DD": 0.15982,
                    "DIST_NEXT_M": 11.137752468093842,
                    "SW_NOISE": false,
                    "style": {}
                  },
                  "geometry": {
                    "type": "Point",
                    "coordinates": [
                      0.15982,
                      52.2492
                    ]
                  }
                },
                {
                  "id": "4",
                  "type": "Feature",
                  "properties": {
                    "LAT_DD": 52.24913,
                    "LONG_DD": 0.15978,
                    "DIST_NEXT_M": 6.7373515745550625,
                    "SW_NOISE": false,
                    "style": {}
                  },
                  "geometry": {
                    "type": "Point",
                    "coordinates": [
                      0.15978,
                      52.24913
                    ]
                  }
                },
                {
                  "id": "5",
                  "type": "Feature",
                  "properties": {
                    "LAT_DD": 52.24908,
                    "LONG_DD": 0.15982,
                    "DIST_NEXT_M": 5.178267408403406,
                    "SW_NOISE": false,
                    "style": {}
                  },
                  "geometry": {
                    "type": "Point",
                    "coordinates": [
                      0.15982,
                      52.24908
                    ]
                  }
                },
                {
                  "id": "6",
                  "type": "Feature",
                  "properties": {
                    "LAT_DD": 52.24907,
                    "LONG_DD": 0.15987,
                    "DIST_NEXT_M": 3.5263275649428754,
                    "SW_NOISE": false,
                    "style": {}
                  },
                  "geometry": {
                    "type": "Point",
                    "coordinates": [
                      0.15987,
                      52.24907
                    ]
                  }
                },
                {
                  "id": "7",
                  "type": "Feature",
                  "properties": {
                    "LAT_DD": 52.24901,
                    "LONG_DD": 0.15994,
                    "DIST_NEXT_M": 7.121904331511909,
                    "SW_NOISE": false,
                    "style": {}
                  },
                  "geometry": {
                    "type": "Point",
                    "coordinates": [
                      0.15994,
                      52.24901
                    ]
                  }
                },
                {
                  "id": "8",
                  "type": "Feature",
                  "properties": {
                    "LAT_DD": 52.24897,
                    "LONG_DD": 0.16003,
                    "DIST_NEXT_M": 7.082828000756325,
                    "SW_NOISE": false,
                    "style": {}
                  },
                  "geometry": {
                    "type": "Point",
                    "coordinates": [
                      0.16003,
                      52.24897
                    ]
                  }
                },
                {
                  "id": "9",
                  "type": "Feature",
                  "properties": {
                    "LAT_DD": 52.2492,
                    "LONG_DD": 0.16068,
                    "DIST_NEXT_M": 48.787014753363955,
                    "SW_NOISE": true,
                    "style": {
                      "fillColor": "red",
                      "weight": 2,
                      "radius": 10
                    }
                  },
                  "geometry": {
                    "type": "Point",
                    "coordinates": [
                      0.16068,
                      52.2492
                    ]
                  }
                },
                {
                  "id": "10",
                  "type": "Feature",
                  "properties": {
                    "LAT_DD": 52.24886,
                    "LONG_DD": 0.16025,
                    "DIST_NEXT_M": 41.91961462805943,
                    "SW_NOISE": false,
                    "style": {}
                  },
                  "geometry": {
                    "type": "Point",
                    "coordinates": [
                      0.16025,
                      52.24886
                    ]
                  }
                },
                {
                  "id": "11",
                  "type": "Feature",
                  "properties": {
                    "LAT_DD": 52.2488,
                    "LONG_DD": 0.16037,
                    "DIST_NEXT_M": 9.748517392921139,
                    "SW_NOISE": false,
                    "style": {}
                  },
                  "geometry": {
                    "type": "Point",
                    "coordinates": [
                      0.16037,
                      52.2488
                    ]
                  }
                },
                {
                  "id": "12",
                  "type": "Feature",
                  "properties": {
                    "LAT_DD": 52.24878,
                    "LONG_DD": 0.16036,
                    "DIST_NEXT_M": 1.8874987492780175,
                    "SW_NOISE": false,
                    "style": {}
                  },
                  "geometry": {
                    "type": "Point",
                    "coordinates": [
                      0.16036,
                      52.24878
                    ]
                  }
                },
                {
                  "id": "13",
                  "type": "Feature",
                  "properties": {
                    "LAT_DD": 52.24873,
                    "LONG_DD": 0.16035,
                    "DIST_NEXT_M": 4.451710679717225,
                    "SW_NOISE": false,
                    "style": {}
                  },
                  "geometry": {
                    "type": "Point",
                    "coordinates": [
                      0.16035,
                      52.24873
                    ]
                  }
                },
                {
                  "id": "14",
                  "type": "Feature",
                  "properties": {
                    "LAT_DD": 52.24869,
                    "LONG_DD": 0.1603,
                    "DIST_NEXT_M": 4.903664542564438,
                    "SW_NOISE": false,
                    "style": {}
                  },
                  "geometry": {
                    "type": "Point",
                    "coordinates": [
                      0.1603,
                      52.24869
                    ]
                  }
                },
                {
                  "id": "15",
                  "type": "Feature",
                  "properties": {
                    "LAT_DD": 52.24864,
                    "LONG_DD": 0.16027,
                    "DIST_NEXT_M": 4.852756736605393,
                    "SW_NOISE": false,
                    "style": {}
                  },
                  "geometry": {
                    "type": "Point",
                    "coordinates": [
                      0.16027,
                      52.24864
                    ]
                  }
                },
                {
                  "id": "16",
                  "type": "Feature",
                  "properties": {
                    "LAT_DD": 52.24862,
                    "LONG_DD": 0.16024,
                    "DIST_NEXT_M": 2.7007800617145503,
                    "SW_NOISE": false,
                    "style": {}
                  },
                  "geometry": {
                    "type": "Point",
                    "coordinates": [
                      0.16024,
                      52.24862
                    ]
                  }
                },
                {
                  "id": "17",
                  "type": "Feature",
                  "properties": {
                    "LAT_DD": 52.24828,
                    "LONG_DD": 0.16017,
                    "DIST_NEXT_M": 30.29277093379836,
                    "SW_NOISE": true,
                    "style": {
                      "fillColor": "red",
                      "weight": 2,
                      "radius": 10
                    }
                  },
                  "geometry": {
                    "type": "Point",
                    "coordinates": [
                      0.16017,
                      52.24828
                    ]
                  }
                }
              ]
            },
            "hover_style": {},
            "layers": [],
            "name": "",
            "options": [],
            "pane": "",
            "point_style": {
              "color": "black",
              "fillColor": "blue",
              "fillOpacity": 0.7,
              "radius": 7,
              "weight": 1
            },
            "popup": null,
            "popup_max_height": null,
            "popup_max_width": 300,
            "popup_min_width": 50,
            "style": {},
            "subitems": [],
            "visible": true
          }
        },
        "8309527dbfd74352b02e130fdadc58aa": {
          "model_module": "jupyter-leaflet",
          "model_name": "LeafletPolylineModel",
          "model_module_version": "^0.18",
          "state": {
            "_model_module": "jupyter-leaflet",
            "_model_module_version": "^0.18",
            "_model_name": "LeafletPolylineModel",
            "_view_count": null,
            "_view_module": "jupyter-leaflet",
            "_view_module_version": "^0.18",
            "_view_name": "LeafletPolylineView",
            "base": false,
            "bottom": false,
            "color": "#0033FF",
            "dash_array": null,
            "draggable": false,
            "fill": false,
            "fill_color": null,
            "fill_opacity": 0.2,
            "line_cap": "round",
            "line_join": "round",
            "locations": [
              [
                52.24947,
                0.16015
              ],
              [
                52.24938,
                0.16001
              ],
              [
                52.2493,
                0.15992
              ],
              [
                52.2492,
                0.15982
              ],
              [
                52.24913,
                0.15978
              ],
              [
                52.24908,
                0.15982
              ],
              [
                52.24907,
                0.15987
              ],
              [
                52.24901,
                0.15994
              ],
              [
                52.24897,
                0.16003
              ],
              [
                52.2492,
                0.16068
              ],
              [
                52.24886,
                0.16025
              ],
              [
                52.2488,
                0.16037
              ],
              [
                52.24878,
                0.16036
              ],
              [
                52.24873,
                0.16035
              ],
              [
                52.24869,
                0.1603
              ],
              [
                52.24864,
                0.16027
              ],
              [
                52.24862,
                0.16024
              ],
              [
                52.24828,
                0.16017
              ]
            ],
            "name": "",
            "no_clip": true,
            "opacity": 1,
            "options": [
              "color",
              "dash_array",
              "draggable",
              "fill",
              "fill_color",
              "fill_opacity",
              "line_cap",
              "line_join",
              "no_clip",
              "opacity",
              "pointer_events",
              "smooth_factor",
              "stroke",
              "transform",
              "weight"
            ],
            "pane": "",
            "pointer_events": "",
            "popup": null,
            "popup_max_height": null,
            "popup_max_width": 300,
            "popup_min_width": 50,
            "rotation": true,
            "scaling": true,
            "smooth_factor": 1,
            "stroke": true,
            "subitems": [],
            "transform": false,
            "uniform_scaling": false,
            "weight": 5
          }
        },
        "60c21fd46966433e8443dd2f4e9c0f5e": {
          "model_module": "@jupyter-widgets/base",
          "model_name": "LayoutModel",
          "model_module_version": "1.2.0",
          "state": {
            "_model_module": "@jupyter-widgets/base",
            "_model_module_version": "1.2.0",
            "_model_name": "LayoutModel",
            "_view_count": null,
            "_view_module": "@jupyter-widgets/base",
            "_view_module_version": "1.2.0",
            "_view_name": "LayoutView",
            "align_content": null,
            "align_items": null,
            "align_self": null,
            "border": null,
            "bottom": null,
            "display": null,
            "flex": null,
            "flex_flow": null,
            "grid_area": null,
            "grid_auto_columns": null,
            "grid_auto_flow": null,
            "grid_auto_rows": null,
            "grid_column": null,
            "grid_gap": null,
            "grid_row": null,
            "grid_template_areas": null,
            "grid_template_columns": null,
            "grid_template_rows": null,
            "height": "500px",
            "justify_content": null,
            "justify_items": null,
            "left": null,
            "margin": null,
            "max_height": null,
            "max_width": null,
            "min_height": null,
            "min_width": null,
            "object_fit": null,
            "object_position": null,
            "order": null,
            "overflow": null,
            "overflow_x": null,
            "overflow_y": null,
            "padding": null,
            "right": null,
            "top": null,
            "visibility": null,
            "width": "400px"
          }
        },
        "9f1a6b48861347e48a1889b170edcc90": {
          "model_module": "jupyter-leaflet",
          "model_name": "LeafletMapStyleModel",
          "model_module_version": "^0.18",
          "state": {
            "_model_module": "jupyter-leaflet",
            "_model_module_version": "^0.18",
            "_model_name": "LeafletMapStyleModel",
            "_view_count": null,
            "_view_module": "@jupyter-widgets/base",
            "_view_module_version": "1.2.0",
            "_view_name": "StyleView",
            "cursor": "grab"
          }
        },
        "80779ac7f89c40f887d1f1b8e7c874dc": {
          "model_module": "jupyter-leaflet",
          "model_name": "LeafletMapModel",
          "model_module_version": "^0.18",
          "state": {
            "_dom_classes": [],
            "_model_module": "jupyter-leaflet",
            "_model_module_version": "^0.18",
            "_model_name": "LeafletMapModel",
            "_view_count": null,
            "_view_module": "jupyter-leaflet",
            "_view_module_version": "^0.18",
            "_view_name": "LeafletMapView",
            "bottom": 22091760,
            "bounce_at_zoom_limits": true,
            "box_zoom": true,
            "center": [
              52.2488566107831,
              0.160326361656189
            ],
            "close_popup_on_click": true,
            "controls": [
              "IPY_MODEL_708988d9140946e381f77571a4f2fe7f",
              "IPY_MODEL_cc9707ca020643138cb672128448d9d0"
            ],
            "crs": {
              "name": "EPSG3857",
              "custom": false
            },
            "default_style": "IPY_MODEL_9b3d6ba032b444c3b624bcce150b50be",
            "double_click_zoom": true,
            "dragging": true,
            "dragging_style": "IPY_MODEL_569077dc01164077a7a6be501d3bb403",
            "east": 0.16139924526214602,
            "fullscreen": false,
            "inertia": true,
            "inertia_deceleration": 3000,
            "inertia_max_speed": 1500,
            "interpolation": "bilinear",
            "keyboard": true,
            "keyboard_pan_offset": 80,
            "keyboard_zoom_offset": 1,
            "layers": [
              "IPY_MODEL_3874da91f8444ca99e44bb43e1eb67f4",
              "IPY_MODEL_0078cc5c2ba54fbd9e6076ca57e5d409",
              "IPY_MODEL_1d0bf523f7dc44dc9586f673330f80ca"
            ],
            "layout": "IPY_MODEL_edd72b6d0d8748e1908e4a45ed0df7a5",
            "left": 33584119,
            "max_zoom": null,
            "min_zoom": null,
            "modisdate": "2024-02-24",
            "north": 52.24967767170013,
            "options": [
              "bounce_at_zoom_limits",
              "box_zoom",
              "center",
              "close_popup_on_click",
              "double_click_zoom",
              "dragging",
              "fullscreen",
              "inertia",
              "inertia_deceleration",
              "inertia_max_speed",
              "interpolation",
              "keyboard",
              "keyboard_pan_offset",
              "keyboard_zoom_offset",
              "max_zoom",
              "min_zoom",
              "prefer_canvas",
              "scroll_wheel_zoom",
              "tap",
              "tap_tolerance",
              "touch_zoom",
              "world_copy_jump",
              "zoom",
              "zoom_animation_threshold",
              "zoom_delta",
              "zoom_snap"
            ],
            "panes": {},
            "prefer_canvas": false,
            "right": 33584519,
            "scroll_wheel_zoom": true,
            "south": 52.24803553467045,
            "style": "IPY_MODEL_9b3d6ba032b444c3b624bcce150b50be",
            "tap": true,
            "tap_tolerance": 15,
            "top": 22091260,
            "touch_zoom": true,
            "west": 0.15925347805023196,
            "window_url": "https://o35lgeu3ubh-496ff2e9c6d22116-0-colab.googleusercontent.com/outputframe.html?vrz=colab_20240222-060134_RC00_609312108",
            "world_copy_jump": false,
            "zoom": 18,
            "zoom_animation_threshold": 4,
            "zoom_delta": 1,
            "zoom_snap": 1
          }
        },
        "708988d9140946e381f77571a4f2fe7f": {
          "model_module": "jupyter-leaflet",
          "model_name": "LeafletZoomControlModel",
          "model_module_version": "^0.18",
          "state": {
            "_model_module": "jupyter-leaflet",
            "_model_module_version": "^0.18",
            "_model_name": "LeafletZoomControlModel",
            "_view_count": null,
            "_view_module": "jupyter-leaflet",
            "_view_module_version": "^0.18",
            "_view_name": "LeafletZoomControlView",
            "options": [
              "position",
              "zoom_in_text",
              "zoom_in_title",
              "zoom_out_text",
              "zoom_out_title"
            ],
            "position": "topleft",
            "zoom_in_text": "+",
            "zoom_in_title": "Zoom in",
            "zoom_out_text": "-",
            "zoom_out_title": "Zoom out"
          }
        },
        "cc9707ca020643138cb672128448d9d0": {
          "model_module": "jupyter-leaflet",
          "model_name": "LeafletAttributionControlModel",
          "model_module_version": "^0.18",
          "state": {
            "_model_module": "jupyter-leaflet",
            "_model_module_version": "^0.18",
            "_model_name": "LeafletAttributionControlModel",
            "_view_count": null,
            "_view_module": "jupyter-leaflet",
            "_view_module_version": "^0.18",
            "_view_name": "LeafletAttributionControlView",
            "options": [
              "position",
              "prefix"
            ],
            "position": "bottomright",
            "prefix": "ipyleaflet"
          }
        },
        "9b3d6ba032b444c3b624bcce150b50be": {
          "model_module": "jupyter-leaflet",
          "model_name": "LeafletMapStyleModel",
          "model_module_version": "^0.18",
          "state": {
            "_model_module": "jupyter-leaflet",
            "_model_module_version": "^0.18",
            "_model_name": "LeafletMapStyleModel",
            "_view_count": null,
            "_view_module": "@jupyter-widgets/base",
            "_view_module_version": "1.2.0",
            "_view_name": "StyleView",
            "cursor": "grab"
          }
        },
        "569077dc01164077a7a6be501d3bb403": {
          "model_module": "jupyter-leaflet",
          "model_name": "LeafletMapStyleModel",
          "model_module_version": "^0.18",
          "state": {
            "_model_module": "jupyter-leaflet",
            "_model_module_version": "^0.18",
            "_model_name": "LeafletMapStyleModel",
            "_view_count": null,
            "_view_module": "@jupyter-widgets/base",
            "_view_module_version": "1.2.0",
            "_view_name": "StyleView",
            "cursor": "move"
          }
        },
        "3874da91f8444ca99e44bb43e1eb67f4": {
          "model_module": "jupyter-leaflet",
          "model_name": "LeafletTileLayerModel",
          "model_module_version": "^0.18",
          "state": {
            "_model_module": "jupyter-leaflet",
            "_model_module_version": "^0.18",
            "_model_name": "LeafletTileLayerModel",
            "_view_count": null,
            "_view_module": "jupyter-leaflet",
            "_view_module_version": "^0.18",
            "_view_name": "LeafletTileLayerView",
            "attribution": "&copy; <a href=\"https://www.openstreetmap.org/copyright\">OpenStreetMap</a> contributors",
            "base": true,
            "bottom": true,
            "bounds": null,
            "detect_retina": false,
            "loading": false,
            "max_native_zoom": null,
            "max_zoom": 19,
            "min_native_zoom": null,
            "min_zoom": 1,
            "name": "OpenStreetMap.Mapnik",
            "no_wrap": false,
            "opacity": 1,
            "options": [
              "attribution",
              "bounds",
              "detect_retina",
              "max_native_zoom",
              "max_zoom",
              "min_native_zoom",
              "min_zoom",
              "no_wrap",
              "tile_size",
              "tms",
              "zoom_offset"
            ],
            "pane": "",
            "popup": null,
            "popup_max_height": null,
            "popup_max_width": 300,
            "popup_min_width": 50,
            "show_loading": false,
            "subitems": [],
            "tile_size": 256,
            "tms": false,
            "url": "https://tile.openstreetmap.org/{z}/{x}/{y}.png",
            "visible": true,
            "zoom_offset": 0
          }
        },
        "0078cc5c2ba54fbd9e6076ca57e5d409": {
          "model_module": "jupyter-leaflet",
          "model_name": "LeafletGeoJSONModel",
          "model_module_version": "^0.18",
          "state": {
            "_model_module": "jupyter-leaflet",
            "_model_module_version": "^0.18",
            "_model_name": "LeafletGeoJSONModel",
            "_view_count": null,
            "_view_module": "jupyter-leaflet",
            "_view_module_version": "^0.18",
            "_view_name": "LeafletGeoJSONView",
            "base": false,
            "bottom": false,
            "data": {
              "type": "FeatureCollection",
              "features": [
                {
                  "id": "0",
                  "type": "Feature",
                  "properties": {
                    "LAT_DD": 52.24947,
                    "LONG_DD": 0.16015,
                    "DIST_NEXT_M": null,
                    "SW_NOISE": false,
                    "style": {}
                  },
                  "geometry": {
                    "type": "Point",
                    "coordinates": [
                      0.16015,
                      52.24947
                    ]
                  }
                },
                {
                  "id": "1",
                  "type": "Feature",
                  "properties": {
                    "LAT_DD": 52.24938,
                    "LONG_DD": 0.16001,
                    "DIST_NEXT_M": 12.414489384575443,
                    "SW_NOISE": false,
                    "style": {}
                  },
                  "geometry": {
                    "type": "Point",
                    "coordinates": [
                      0.16001,
                      52.24938
                    ]
                  }
                },
                {
                  "id": "2",
                  "type": "Feature",
                  "properties": {
                    "LAT_DD": 52.2493,
                    "LONG_DD": 0.15992,
                    "DIST_NEXT_M": 9.34457259405251,
                    "SW_NOISE": false,
                    "style": {}
                  },
                  "geometry": {
                    "type": "Point",
                    "coordinates": [
                      0.15992,
                      52.2493
                    ]
                  }
                },
                {
                  "id": "3",
                  "type": "Feature",
                  "properties": {
                    "LAT_DD": 52.2492,
                    "LONG_DD": 0.15982,
                    "DIST_NEXT_M": 11.137752468093842,
                    "SW_NOISE": false,
                    "style": {}
                  },
                  "geometry": {
                    "type": "Point",
                    "coordinates": [
                      0.15982,
                      52.2492
                    ]
                  }
                },
                {
                  "id": "4",
                  "type": "Feature",
                  "properties": {
                    "LAT_DD": 52.24913,
                    "LONG_DD": 0.15978,
                    "DIST_NEXT_M": 6.7373515745550625,
                    "SW_NOISE": false,
                    "style": {}
                  },
                  "geometry": {
                    "type": "Point",
                    "coordinates": [
                      0.15978,
                      52.24913
                    ]
                  }
                },
                {
                  "id": "5",
                  "type": "Feature",
                  "properties": {
                    "LAT_DD": 52.24908,
                    "LONG_DD": 0.15982,
                    "DIST_NEXT_M": 5.178267408403406,
                    "SW_NOISE": false,
                    "style": {}
                  },
                  "geometry": {
                    "type": "Point",
                    "coordinates": [
                      0.15982,
                      52.24908
                    ]
                  }
                },
                {
                  "id": "6",
                  "type": "Feature",
                  "properties": {
                    "LAT_DD": 52.24907,
                    "LONG_DD": 0.15987,
                    "DIST_NEXT_M": 3.5263275649428754,
                    "SW_NOISE": false,
                    "style": {}
                  },
                  "geometry": {
                    "type": "Point",
                    "coordinates": [
                      0.15987,
                      52.24907
                    ]
                  }
                },
                {
                  "id": "7",
                  "type": "Feature",
                  "properties": {
                    "LAT_DD": 52.24901,
                    "LONG_DD": 0.15994,
                    "DIST_NEXT_M": 7.121904331511909,
                    "SW_NOISE": false,
                    "style": {}
                  },
                  "geometry": {
                    "type": "Point",
                    "coordinates": [
                      0.15994,
                      52.24901
                    ]
                  }
                },
                {
                  "id": "8",
                  "type": "Feature",
                  "properties": {
                    "LAT_DD": 52.24897,
                    "LONG_DD": 0.16003,
                    "DIST_NEXT_M": 7.082828000756325,
                    "SW_NOISE": false,
                    "style": {}
                  },
                  "geometry": {
                    "type": "Point",
                    "coordinates": [
                      0.16003,
                      52.24897
                    ]
                  }
                },
                {
                  "id": "9",
                  "type": "Feature",
                  "properties": {
                    "LAT_DD": 52.2492,
                    "LONG_DD": 0.16068,
                    "DIST_NEXT_M": 48.787014753363955,
                    "SW_NOISE": true,
                    "style": {
                      "fillColor": "red",
                      "weight": 2,
                      "radius": 10
                    }
                  },
                  "geometry": {
                    "type": "Point",
                    "coordinates": [
                      0.16068,
                      52.2492
                    ]
                  }
                },
                {
                  "id": "10",
                  "type": "Feature",
                  "properties": {
                    "LAT_DD": 52.24886,
                    "LONG_DD": 0.16025,
                    "DIST_NEXT_M": 41.91961462805943,
                    "SW_NOISE": false,
                    "style": {}
                  },
                  "geometry": {
                    "type": "Point",
                    "coordinates": [
                      0.16025,
                      52.24886
                    ]
                  }
                },
                {
                  "id": "11",
                  "type": "Feature",
                  "properties": {
                    "LAT_DD": 52.2488,
                    "LONG_DD": 0.16037,
                    "DIST_NEXT_M": 9.748517392921139,
                    "SW_NOISE": false,
                    "style": {}
                  },
                  "geometry": {
                    "type": "Point",
                    "coordinates": [
                      0.16037,
                      52.2488
                    ]
                  }
                },
                {
                  "id": "12",
                  "type": "Feature",
                  "properties": {
                    "LAT_DD": 52.24878,
                    "LONG_DD": 0.16036,
                    "DIST_NEXT_M": 1.8874987492780175,
                    "SW_NOISE": false,
                    "style": {}
                  },
                  "geometry": {
                    "type": "Point",
                    "coordinates": [
                      0.16036,
                      52.24878
                    ]
                  }
                },
                {
                  "id": "13",
                  "type": "Feature",
                  "properties": {
                    "LAT_DD": 52.24873,
                    "LONG_DD": 0.16035,
                    "DIST_NEXT_M": 4.451710679717225,
                    "SW_NOISE": false,
                    "style": {}
                  },
                  "geometry": {
                    "type": "Point",
                    "coordinates": [
                      0.16035,
                      52.24873
                    ]
                  }
                },
                {
                  "id": "14",
                  "type": "Feature",
                  "properties": {
                    "LAT_DD": 52.24869,
                    "LONG_DD": 0.1603,
                    "DIST_NEXT_M": 4.903664542564438,
                    "SW_NOISE": false,
                    "style": {}
                  },
                  "geometry": {
                    "type": "Point",
                    "coordinates": [
                      0.1603,
                      52.24869
                    ]
                  }
                },
                {
                  "id": "15",
                  "type": "Feature",
                  "properties": {
                    "LAT_DD": 52.24864,
                    "LONG_DD": 0.16027,
                    "DIST_NEXT_M": 4.852756736605393,
                    "SW_NOISE": false,
                    "style": {}
                  },
                  "geometry": {
                    "type": "Point",
                    "coordinates": [
                      0.16027,
                      52.24864
                    ]
                  }
                },
                {
                  "id": "16",
                  "type": "Feature",
                  "properties": {
                    "LAT_DD": 52.24862,
                    "LONG_DD": 0.16024,
                    "DIST_NEXT_M": 2.7007800617145503,
                    "SW_NOISE": false,
                    "style": {}
                  },
                  "geometry": {
                    "type": "Point",
                    "coordinates": [
                      0.16024,
                      52.24862
                    ]
                  }
                },
                {
                  "id": "17",
                  "type": "Feature",
                  "properties": {
                    "LAT_DD": 52.24828,
                    "LONG_DD": 0.16017,
                    "DIST_NEXT_M": 30.29277093379836,
                    "SW_NOISE": true,
                    "style": {
                      "fillColor": "red",
                      "weight": 2,
                      "radius": 10
                    }
                  },
                  "geometry": {
                    "type": "Point",
                    "coordinates": [
                      0.16017,
                      52.24828
                    ]
                  }
                }
              ]
            },
            "hover_style": {},
            "layers": [],
            "name": "",
            "options": [],
            "pane": "",
            "point_style": {
              "color": "black",
              "fillColor": "blue",
              "fillOpacity": 0.7,
              "radius": 7,
              "weight": 1
            },
            "popup": null,
            "popup_max_height": null,
            "popup_max_width": 300,
            "popup_min_width": 50,
            "style": {},
            "subitems": [],
            "visible": true
          }
        },
        "1d0bf523f7dc44dc9586f673330f80ca": {
          "model_module": "jupyter-leaflet",
          "model_name": "LeafletPolylineModel",
          "model_module_version": "^0.18",
          "state": {
            "_model_module": "jupyter-leaflet",
            "_model_module_version": "^0.18",
            "_model_name": "LeafletPolylineModel",
            "_view_count": null,
            "_view_module": "jupyter-leaflet",
            "_view_module_version": "^0.18",
            "_view_name": "LeafletPolylineView",
            "base": false,
            "bottom": false,
            "color": "#0033FF",
            "dash_array": null,
            "draggable": false,
            "fill": false,
            "fill_color": null,
            "fill_opacity": 0.2,
            "line_cap": "round",
            "line_join": "round",
            "locations": [
              [
                52.24947,
                0.16015
              ],
              [
                52.24938,
                0.16001
              ],
              [
                52.2493,
                0.15992
              ],
              [
                52.2492,
                0.15982
              ],
              [
                52.24913,
                0.15978
              ],
              [
                52.24908,
                0.15982
              ],
              [
                52.24907,
                0.15987
              ],
              [
                52.24901,
                0.15994
              ],
              [
                52.24897,
                0.16003
              ],
              [
                52.2492,
                0.16068
              ],
              [
                52.24886,
                0.16025
              ],
              [
                52.2488,
                0.16037
              ],
              [
                52.24878,
                0.16036
              ],
              [
                52.24873,
                0.16035
              ],
              [
                52.24869,
                0.1603
              ],
              [
                52.24864,
                0.16027
              ],
              [
                52.24862,
                0.16024
              ],
              [
                52.24828,
                0.16017
              ]
            ],
            "name": "",
            "no_clip": true,
            "opacity": 1,
            "options": [
              "color",
              "dash_array",
              "draggable",
              "fill",
              "fill_color",
              "fill_opacity",
              "line_cap",
              "line_join",
              "no_clip",
              "opacity",
              "pointer_events",
              "smooth_factor",
              "stroke",
              "transform",
              "weight"
            ],
            "pane": "",
            "pointer_events": "",
            "popup": null,
            "popup_max_height": null,
            "popup_max_width": 300,
            "popup_min_width": 50,
            "rotation": true,
            "scaling": true,
            "smooth_factor": 1,
            "stroke": true,
            "subitems": [],
            "transform": false,
            "uniform_scaling": false,
            "weight": 5
          }
        },
        "edd72b6d0d8748e1908e4a45ed0df7a5": {
          "model_module": "@jupyter-widgets/base",
          "model_name": "LayoutModel",
          "model_module_version": "1.2.0",
          "state": {
            "_model_module": "@jupyter-widgets/base",
            "_model_module_version": "1.2.0",
            "_model_name": "LayoutModel",
            "_view_count": null,
            "_view_module": "@jupyter-widgets/base",
            "_view_module_version": "1.2.0",
            "_view_name": "LayoutView",
            "align_content": null,
            "align_items": null,
            "align_self": null,
            "border": null,
            "bottom": null,
            "display": null,
            "flex": null,
            "flex_flow": null,
            "grid_area": null,
            "grid_auto_columns": null,
            "grid_auto_flow": null,
            "grid_auto_rows": null,
            "grid_column": null,
            "grid_gap": null,
            "grid_row": null,
            "grid_template_areas": null,
            "grid_template_columns": null,
            "grid_template_rows": null,
            "height": "500px",
            "justify_content": null,
            "justify_items": null,
            "left": null,
            "margin": null,
            "max_height": null,
            "max_width": null,
            "min_height": null,
            "min_width": null,
            "object_fit": null,
            "object_position": null,
            "order": null,
            "overflow": null,
            "overflow_x": null,
            "overflow_y": null,
            "padding": null,
            "right": null,
            "top": null,
            "visibility": null,
            "width": "400px"
          }
        },
        "7ac3af4ac0334350acf6de0096a974c3": {
          "model_module": "jupyter-leaflet",
          "model_name": "LeafletMapStyleModel",
          "model_module_version": "^0.18",
          "state": {
            "_model_module": "jupyter-leaflet",
            "_model_module_version": "^0.18",
            "_model_name": "LeafletMapStyleModel",
            "_view_count": null,
            "_view_module": "@jupyter-widgets/base",
            "_view_module_version": "1.2.0",
            "_view_name": "StyleView",
            "cursor": "grab"
          }
        },
        "468c3be049c145718ed3b82b822864df": {
          "model_module": "jupyter-leaflet",
          "model_name": "LeafletMapModel",
          "model_module_version": "^0.18",
          "state": {
            "_dom_classes": [],
            "_model_module": "jupyter-leaflet",
            "_model_module_version": "^0.18",
            "_model_name": "LeafletMapModel",
            "_view_count": null,
            "_view_module": "jupyter-leaflet",
            "_view_module_version": "^0.18",
            "_view_name": "LeafletMapView",
            "bottom": 22091759,
            "bounce_at_zoom_limits": true,
            "box_zoom": true,
            "center": [
              52.24886,
              0.16025
            ],
            "close_popup_on_click": true,
            "controls": [
              "IPY_MODEL_5f35b7ebf58442ba9aff8e76878b5ea8",
              "IPY_MODEL_07c31653631a45ca85b9526f8008c9b1"
            ],
            "crs": {
              "name": "EPSG3857",
              "custom": false
            },
            "default_style": "IPY_MODEL_feae75d5b9d0447ba10a24996ba9941b",
            "double_click_zoom": true,
            "dragging": true,
            "dragging_style": "IPY_MODEL_d55a6b54aee34baa8a5ffd736ac2d7d4",
            "east": 0.16132414340972903,
            "fullscreen": false,
            "inertia": true,
            "inertia_deceleration": 3000,
            "inertia_max_speed": 1500,
            "interpolation": "bilinear",
            "keyboard": true,
            "keyboard_pan_offset": 80,
            "keyboard_zoom_offset": 1,
            "layers": [
              "IPY_MODEL_8fea8469ffa546f6a3db678bc7c66731",
              "IPY_MODEL_a53b31674c054171953999731a0cc609",
              "IPY_MODEL_8ff6d286952b48c1945f5b584f6ff8af"
            ],
            "layout": "IPY_MODEL_6c164feb958d4ada958787c40c369d77",
            "left": 33584105,
            "max_zoom": null,
            "min_zoom": null,
            "modisdate": "2024-02-24",
            "north": 52.24968095591328,
            "options": [
              "bounce_at_zoom_limits",
              "box_zoom",
              "center",
              "close_popup_on_click",
              "double_click_zoom",
              "dragging",
              "fullscreen",
              "inertia",
              "inertia_deceleration",
              "inertia_max_speed",
              "interpolation",
              "keyboard",
              "keyboard_pan_offset",
              "keyboard_zoom_offset",
              "max_zoom",
              "min_zoom",
              "prefer_canvas",
              "scroll_wheel_zoom",
              "tap",
              "tap_tolerance",
              "touch_zoom",
              "world_copy_jump",
              "zoom",
              "zoom_animation_threshold",
              "zoom_delta",
              "zoom_snap"
            ],
            "panes": {},
            "prefer_canvas": false,
            "right": 33584505,
            "scroll_wheel_zoom": true,
            "south": 52.24803881900518,
            "style": "IPY_MODEL_de70c5e016d04bc08ff9f26975d5b900",
            "tap": true,
            "tap_tolerance": 15,
            "top": 22091259,
            "touch_zoom": true,
            "west": 0.15917837619781497,
            "window_url": "https://o35lgeu3ubh-496ff2e9c6d22116-0-colab.googleusercontent.com/outputframe.html?vrz=colab_20240222-060134_RC00_609312108",
            "world_copy_jump": false,
            "zoom": 18,
            "zoom_animation_threshold": 4,
            "zoom_delta": 1,
            "zoom_snap": 1
          }
        },
        "5f35b7ebf58442ba9aff8e76878b5ea8": {
          "model_module": "jupyter-leaflet",
          "model_name": "LeafletZoomControlModel",
          "model_module_version": "^0.18",
          "state": {
            "_model_module": "jupyter-leaflet",
            "_model_module_version": "^0.18",
            "_model_name": "LeafletZoomControlModel",
            "_view_count": null,
            "_view_module": "jupyter-leaflet",
            "_view_module_version": "^0.18",
            "_view_name": "LeafletZoomControlView",
            "options": [
              "position",
              "zoom_in_text",
              "zoom_in_title",
              "zoom_out_text",
              "zoom_out_title"
            ],
            "position": "topleft",
            "zoom_in_text": "+",
            "zoom_in_title": "Zoom in",
            "zoom_out_text": "-",
            "zoom_out_title": "Zoom out"
          }
        },
        "07c31653631a45ca85b9526f8008c9b1": {
          "model_module": "jupyter-leaflet",
          "model_name": "LeafletAttributionControlModel",
          "model_module_version": "^0.18",
          "state": {
            "_model_module": "jupyter-leaflet",
            "_model_module_version": "^0.18",
            "_model_name": "LeafletAttributionControlModel",
            "_view_count": null,
            "_view_module": "jupyter-leaflet",
            "_view_module_version": "^0.18",
            "_view_name": "LeafletAttributionControlView",
            "options": [
              "position",
              "prefix"
            ],
            "position": "bottomright",
            "prefix": "ipyleaflet"
          }
        },
        "feae75d5b9d0447ba10a24996ba9941b": {
          "model_module": "jupyter-leaflet",
          "model_name": "LeafletMapStyleModel",
          "model_module_version": "^0.18",
          "state": {
            "_model_module": "jupyter-leaflet",
            "_model_module_version": "^0.18",
            "_model_name": "LeafletMapStyleModel",
            "_view_count": null,
            "_view_module": "@jupyter-widgets/base",
            "_view_module_version": "1.2.0",
            "_view_name": "StyleView",
            "cursor": "grab"
          }
        },
        "d55a6b54aee34baa8a5ffd736ac2d7d4": {
          "model_module": "jupyter-leaflet",
          "model_name": "LeafletMapStyleModel",
          "model_module_version": "^0.18",
          "state": {
            "_model_module": "jupyter-leaflet",
            "_model_module_version": "^0.18",
            "_model_name": "LeafletMapStyleModel",
            "_view_count": null,
            "_view_module": "@jupyter-widgets/base",
            "_view_module_version": "1.2.0",
            "_view_name": "StyleView",
            "cursor": "move"
          }
        },
        "8fea8469ffa546f6a3db678bc7c66731": {
          "model_module": "jupyter-leaflet",
          "model_name": "LeafletTileLayerModel",
          "model_module_version": "^0.18",
          "state": {
            "_model_module": "jupyter-leaflet",
            "_model_module_version": "^0.18",
            "_model_name": "LeafletTileLayerModel",
            "_view_count": null,
            "_view_module": "jupyter-leaflet",
            "_view_module_version": "^0.18",
            "_view_name": "LeafletTileLayerView",
            "attribution": "&copy; <a href=\"https://www.openstreetmap.org/copyright\">OpenStreetMap</a> contributors",
            "base": true,
            "bottom": true,
            "bounds": null,
            "detect_retina": false,
            "loading": false,
            "max_native_zoom": null,
            "max_zoom": 19,
            "min_native_zoom": null,
            "min_zoom": 1,
            "name": "OpenStreetMap.Mapnik",
            "no_wrap": false,
            "opacity": 1,
            "options": [
              "attribution",
              "bounds",
              "detect_retina",
              "max_native_zoom",
              "max_zoom",
              "min_native_zoom",
              "min_zoom",
              "no_wrap",
              "tile_size",
              "tms",
              "zoom_offset"
            ],
            "pane": "",
            "popup": null,
            "popup_max_height": null,
            "popup_max_width": 300,
            "popup_min_width": 50,
            "show_loading": false,
            "subitems": [],
            "tile_size": 256,
            "tms": false,
            "url": "https://tile.openstreetmap.org/{z}/{x}/{y}.png",
            "visible": true,
            "zoom_offset": 0
          }
        },
        "a53b31674c054171953999731a0cc609": {
          "model_module": "jupyter-leaflet",
          "model_name": "LeafletGeoJSONModel",
          "model_module_version": "^0.18",
          "state": {
            "_model_module": "jupyter-leaflet",
            "_model_module_version": "^0.18",
            "_model_name": "LeafletGeoJSONModel",
            "_view_count": null,
            "_view_module": "jupyter-leaflet",
            "_view_module_version": "^0.18",
            "_view_name": "LeafletGeoJSONView",
            "base": false,
            "bottom": false,
            "data": {
              "type": "FeatureCollection",
              "features": [
                {
                  "id": "0",
                  "type": "Feature",
                  "properties": {
                    "LAT_DD": 52.24947,
                    "LONG_DD": 0.16015,
                    "DIST_NEXT_M": null,
                    "SW_NOISE": false,
                    "style": {}
                  },
                  "geometry": {
                    "type": "Point",
                    "coordinates": [
                      0.16015,
                      52.24947
                    ]
                  }
                },
                {
                  "id": "1",
                  "type": "Feature",
                  "properties": {
                    "LAT_DD": 52.24938,
                    "LONG_DD": 0.16001,
                    "DIST_NEXT_M": 12.414489384575443,
                    "SW_NOISE": false,
                    "style": {}
                  },
                  "geometry": {
                    "type": "Point",
                    "coordinates": [
                      0.16001,
                      52.24938
                    ]
                  }
                },
                {
                  "id": "2",
                  "type": "Feature",
                  "properties": {
                    "LAT_DD": 52.2493,
                    "LONG_DD": 0.15992,
                    "DIST_NEXT_M": 9.34457259405251,
                    "SW_NOISE": false,
                    "style": {}
                  },
                  "geometry": {
                    "type": "Point",
                    "coordinates": [
                      0.15992,
                      52.2493
                    ]
                  }
                },
                {
                  "id": "3",
                  "type": "Feature",
                  "properties": {
                    "LAT_DD": 52.2492,
                    "LONG_DD": 0.15982,
                    "DIST_NEXT_M": 11.137752468093842,
                    "SW_NOISE": false,
                    "style": {}
                  },
                  "geometry": {
                    "type": "Point",
                    "coordinates": [
                      0.15982,
                      52.2492
                    ]
                  }
                },
                {
                  "id": "4",
                  "type": "Feature",
                  "properties": {
                    "LAT_DD": 52.24913,
                    "LONG_DD": 0.15978,
                    "DIST_NEXT_M": 6.7373515745550625,
                    "SW_NOISE": false,
                    "style": {}
                  },
                  "geometry": {
                    "type": "Point",
                    "coordinates": [
                      0.15978,
                      52.24913
                    ]
                  }
                },
                {
                  "id": "5",
                  "type": "Feature",
                  "properties": {
                    "LAT_DD": 52.24908,
                    "LONG_DD": 0.15982,
                    "DIST_NEXT_M": 5.178267408403406,
                    "SW_NOISE": false,
                    "style": {}
                  },
                  "geometry": {
                    "type": "Point",
                    "coordinates": [
                      0.15982,
                      52.24908
                    ]
                  }
                },
                {
                  "id": "6",
                  "type": "Feature",
                  "properties": {
                    "LAT_DD": 52.24907,
                    "LONG_DD": 0.15987,
                    "DIST_NEXT_M": 3.5263275649428754,
                    "SW_NOISE": false,
                    "style": {}
                  },
                  "geometry": {
                    "type": "Point",
                    "coordinates": [
                      0.15987,
                      52.24907
                    ]
                  }
                },
                {
                  "id": "7",
                  "type": "Feature",
                  "properties": {
                    "LAT_DD": 52.24901,
                    "LONG_DD": 0.15994,
                    "DIST_NEXT_M": 7.121904331511909,
                    "SW_NOISE": false,
                    "style": {}
                  },
                  "geometry": {
                    "type": "Point",
                    "coordinates": [
                      0.15994,
                      52.24901
                    ]
                  }
                },
                {
                  "id": "8",
                  "type": "Feature",
                  "properties": {
                    "LAT_DD": 52.24897,
                    "LONG_DD": 0.16003,
                    "DIST_NEXT_M": 7.082828000756325,
                    "SW_NOISE": false,
                    "style": {}
                  },
                  "geometry": {
                    "type": "Point",
                    "coordinates": [
                      0.16003,
                      52.24897
                    ]
                  }
                },
                {
                  "id": "9",
                  "type": "Feature",
                  "properties": {
                    "LAT_DD": 52.2492,
                    "LONG_DD": 0.16068,
                    "DIST_NEXT_M": 48.787014753363955,
                    "SW_NOISE": true,
                    "style": {
                      "fillColor": "red",
                      "weight": 2,
                      "radius": 10
                    }
                  },
                  "geometry": {
                    "type": "Point",
                    "coordinates": [
                      0.16068,
                      52.2492
                    ]
                  }
                },
                {
                  "id": "10",
                  "type": "Feature",
                  "properties": {
                    "LAT_DD": 52.24886,
                    "LONG_DD": 0.16025,
                    "DIST_NEXT_M": 41.91961462805943,
                    "SW_NOISE": false,
                    "style": {}
                  },
                  "geometry": {
                    "type": "Point",
                    "coordinates": [
                      0.16025,
                      52.24886
                    ]
                  }
                },
                {
                  "id": "11",
                  "type": "Feature",
                  "properties": {
                    "LAT_DD": 52.2488,
                    "LONG_DD": 0.16037,
                    "DIST_NEXT_M": 9.748517392921139,
                    "SW_NOISE": false,
                    "style": {}
                  },
                  "geometry": {
                    "type": "Point",
                    "coordinates": [
                      0.16037,
                      52.2488
                    ]
                  }
                },
                {
                  "id": "12",
                  "type": "Feature",
                  "properties": {
                    "LAT_DD": 52.24878,
                    "LONG_DD": 0.16036,
                    "DIST_NEXT_M": 1.8874987492780175,
                    "SW_NOISE": false,
                    "style": {}
                  },
                  "geometry": {
                    "type": "Point",
                    "coordinates": [
                      0.16036,
                      52.24878
                    ]
                  }
                },
                {
                  "id": "13",
                  "type": "Feature",
                  "properties": {
                    "LAT_DD": 52.24873,
                    "LONG_DD": 0.16035,
                    "DIST_NEXT_M": 4.451710679717225,
                    "SW_NOISE": false,
                    "style": {}
                  },
                  "geometry": {
                    "type": "Point",
                    "coordinates": [
                      0.16035,
                      52.24873
                    ]
                  }
                },
                {
                  "id": "14",
                  "type": "Feature",
                  "properties": {
                    "LAT_DD": 52.24869,
                    "LONG_DD": 0.1603,
                    "DIST_NEXT_M": 4.903664542564438,
                    "SW_NOISE": false,
                    "style": {}
                  },
                  "geometry": {
                    "type": "Point",
                    "coordinates": [
                      0.1603,
                      52.24869
                    ]
                  }
                },
                {
                  "id": "15",
                  "type": "Feature",
                  "properties": {
                    "LAT_DD": 52.24864,
                    "LONG_DD": 0.16027,
                    "DIST_NEXT_M": 4.852756736605393,
                    "SW_NOISE": false,
                    "style": {}
                  },
                  "geometry": {
                    "type": "Point",
                    "coordinates": [
                      0.16027,
                      52.24864
                    ]
                  }
                },
                {
                  "id": "16",
                  "type": "Feature",
                  "properties": {
                    "LAT_DD": 52.24862,
                    "LONG_DD": 0.16024,
                    "DIST_NEXT_M": 2.7007800617145503,
                    "SW_NOISE": false,
                    "style": {}
                  },
                  "geometry": {
                    "type": "Point",
                    "coordinates": [
                      0.16024,
                      52.24862
                    ]
                  }
                },
                {
                  "id": "17",
                  "type": "Feature",
                  "properties": {
                    "LAT_DD": 52.24828,
                    "LONG_DD": 0.16017,
                    "DIST_NEXT_M": 30.29277093379836,
                    "SW_NOISE": true,
                    "style": {
                      "fillColor": "red",
                      "weight": 2,
                      "radius": 10
                    }
                  },
                  "geometry": {
                    "type": "Point",
                    "coordinates": [
                      0.16017,
                      52.24828
                    ]
                  }
                }
              ]
            },
            "hover_style": {},
            "layers": [],
            "name": "",
            "options": [],
            "pane": "",
            "point_style": {
              "color": "black",
              "fillColor": "blue",
              "fillOpacity": 0.7,
              "radius": 7,
              "weight": 1
            },
            "popup": null,
            "popup_max_height": null,
            "popup_max_width": 300,
            "popup_min_width": 50,
            "style": {},
            "subitems": [],
            "visible": true
          }
        },
        "8ff6d286952b48c1945f5b584f6ff8af": {
          "model_module": "jupyter-leaflet",
          "model_name": "LeafletPolylineModel",
          "model_module_version": "^0.18",
          "state": {
            "_model_module": "jupyter-leaflet",
            "_model_module_version": "^0.18",
            "_model_name": "LeafletPolylineModel",
            "_view_count": null,
            "_view_module": "jupyter-leaflet",
            "_view_module_version": "^0.18",
            "_view_name": "LeafletPolylineView",
            "base": false,
            "bottom": false,
            "color": "#0033FF",
            "dash_array": null,
            "draggable": false,
            "fill": false,
            "fill_color": null,
            "fill_opacity": 0.2,
            "line_cap": "round",
            "line_join": "round",
            "locations": [
              [
                52.24947,
                0.16015
              ],
              [
                52.24938,
                0.16001
              ],
              [
                52.2493,
                0.15992
              ],
              [
                52.2492,
                0.15982
              ],
              [
                52.24913,
                0.15978
              ],
              [
                52.24908,
                0.15982
              ],
              [
                52.24907,
                0.15987
              ],
              [
                52.24901,
                0.15994
              ],
              [
                52.24897,
                0.16003
              ],
              [
                52.2492,
                0.16068
              ],
              [
                52.24886,
                0.16025
              ],
              [
                52.2488,
                0.16037
              ],
              [
                52.24878,
                0.16036
              ],
              [
                52.24873,
                0.16035
              ],
              [
                52.24869,
                0.1603
              ],
              [
                52.24864,
                0.16027
              ],
              [
                52.24862,
                0.16024
              ],
              [
                52.24828,
                0.16017
              ]
            ],
            "name": "",
            "no_clip": true,
            "opacity": 1,
            "options": [
              "color",
              "dash_array",
              "draggable",
              "fill",
              "fill_color",
              "fill_opacity",
              "line_cap",
              "line_join",
              "no_clip",
              "opacity",
              "pointer_events",
              "smooth_factor",
              "stroke",
              "transform",
              "weight"
            ],
            "pane": "",
            "pointer_events": "",
            "popup": null,
            "popup_max_height": null,
            "popup_max_width": 300,
            "popup_min_width": 50,
            "rotation": true,
            "scaling": true,
            "smooth_factor": 1,
            "stroke": true,
            "subitems": [],
            "transform": false,
            "uniform_scaling": false,
            "weight": 5
          }
        },
        "6c164feb958d4ada958787c40c369d77": {
          "model_module": "@jupyter-widgets/base",
          "model_name": "LayoutModel",
          "model_module_version": "1.2.0",
          "state": {
            "_model_module": "@jupyter-widgets/base",
            "_model_module_version": "1.2.0",
            "_model_name": "LayoutModel",
            "_view_count": null,
            "_view_module": "@jupyter-widgets/base",
            "_view_module_version": "1.2.0",
            "_view_name": "LayoutView",
            "align_content": null,
            "align_items": null,
            "align_self": null,
            "border": null,
            "bottom": null,
            "display": null,
            "flex": null,
            "flex_flow": null,
            "grid_area": null,
            "grid_auto_columns": null,
            "grid_auto_flow": null,
            "grid_auto_rows": null,
            "grid_column": null,
            "grid_gap": null,
            "grid_row": null,
            "grid_template_areas": null,
            "grid_template_columns": null,
            "grid_template_rows": null,
            "height": "500px",
            "justify_content": null,
            "justify_items": null,
            "left": null,
            "margin": null,
            "max_height": null,
            "max_width": null,
            "min_height": null,
            "min_width": null,
            "object_fit": null,
            "object_position": null,
            "order": null,
            "overflow": null,
            "overflow_x": null,
            "overflow_y": null,
            "padding": null,
            "right": null,
            "top": null,
            "visibility": null,
            "width": "400px"
          }
        },
        "de70c5e016d04bc08ff9f26975d5b900": {
          "model_module": "jupyter-leaflet",
          "model_name": "LeafletMapStyleModel",
          "model_module_version": "^0.18",
          "state": {
            "_model_module": "jupyter-leaflet",
            "_model_module_version": "^0.18",
            "_model_name": "LeafletMapStyleModel",
            "_view_count": null,
            "_view_module": "@jupyter-widgets/base",
            "_view_module_version": "1.2.0",
            "_view_name": "StyleView",
            "cursor": "grab"
          }
        }
      }
    }
  },
  "cells": [
    {
      "cell_type": "markdown",
      "metadata": {
        "id": "view-in-github",
        "colab_type": "text"
      },
      "source": [
        "<a href=\"https://colab.research.google.com/github/AndyRids/AndyRids/blob/main/TRAJECTORY_OUTLIERS.ipynb\" target=\"_parent\"><img src=\"https://colab.research.google.com/assets/colab-badge.svg\" alt=\"Open In Colab\"/></a>"
      ]
    },
    {
      "cell_type": "code",
      "execution_count": 138,
      "metadata": {
        "id": "-etLT4JpXhny"
      },
      "outputs": [],
      "source": [
        "import json\n",
        "import math\n",
        "from typing import Union\n",
        "\n",
        "import ipyleaflet as leaf\n",
        "import ipywidgets as widgets\n",
        "import matplotlib.pyplot as plt\n",
        "import numpy as np\n",
        "from geopandas import GeoDataFrame, points_from_xy\n",
        "from pandas import DataFrame, Timestamp, offsets\n",
        "from pandas.api.indexers import (\n",
        "    FixedForwardWindowIndexer, VariableOffsetWindowIndexer)\n",
        "from scipy import stats\n",
        "from scipy.spatial.distance import cdist, euclidean\n",
        "from shapely import LineString"
      ]
    },
    {
      "cell_type": "code",
      "source": [
        "%matplotlib inline"
      ],
      "metadata": {
        "id": "d9B6xo9WlFf6"
      },
      "execution_count": 126,
      "outputs": []
    },
    {
      "cell_type": "code",
      "source": [
        "np.random.seed(2017)"
      ],
      "metadata": {
        "id": "WAfmkGhCZ8fc"
      },
      "execution_count": 3,
      "outputs": []
    },
    {
      "cell_type": "code",
      "source": [
        "X = (\n",
        "    GeoDataFrame(\n",
        "        data=np.array(\n",
        "            [\n",
        "                [52.24947, 0.16015],\n",
        "                [52.24938, 0.16001],\n",
        "                [52.2493, 0.15992],\n",
        "                [52.2492, 0.15982],\n",
        "                [52.24913, 0.15978],\n",
        "                [52.24908, 0.15982],\n",
        "                [52.24907, 0.15987],\n",
        "                [52.24901, 0.15994],\n",
        "                [52.24897, 0.16003],\n",
        "                [52.2492, 0.16068],\n",
        "                [52.24886, 0.16025],\n",
        "                [52.2488, 0.16037],\n",
        "                [52.24878, 0.16036],\n",
        "                [52.24873, 0.16035],\n",
        "                [52.24869, 0.1603],\n",
        "                [52.24864, 0.16027],\n",
        "                [52.24862, 0.16024],\n",
        "                [52.24828, 0.16017],\n",
        "            ]\n",
        "        ),\n",
        "        columns=[\"LAT_DD\", \"LONG_DD\"],\n",
        "    )\n",
        "    .assign(\n",
        "        GEOMETRY=lambda x: points_from_xy(x.LONG_DD, x.LAT_DD, crs=\"EPSG:4326\")\n",
        "    )\n",
        "    .set_geometry(\"GEOMETRY\")\n",
        "    .assign(\n",
        "        DIST_NEXT_M=lambda x: (\n",
        "            x.to_crs(\"EPSG:4978\").distance(x.to_crs(\"EPSG:4978\").shift()))\n",
        "    )\n",
        ")\n",
        "\n",
        "X"
      ],
      "metadata": {
        "colab": {
          "base_uri": "https://localhost:8080/",
          "height": 614
        },
        "id": "Xdof1mr1ZndQ",
        "outputId": "715fa6fd-67df-4afb-8bac-ac3d62d35afc"
      },
      "execution_count": 165,
      "outputs": [
        {
          "output_type": "execute_result",
          "data": {
            "text/plain": [
              "      LAT_DD  LONG_DD                  GEOMETRY  DIST_NEXT_M\n",
              "0   52.24947  0.16015  POINT (0.16015 52.24947)          NaN\n",
              "1   52.24938  0.16001  POINT (0.16001 52.24938)    12.414489\n",
              "2   52.24930  0.15992  POINT (0.15992 52.24930)     9.344573\n",
              "3   52.24920  0.15982  POINT (0.15982 52.24920)    11.137752\n",
              "4   52.24913  0.15978  POINT (0.15978 52.24913)     6.737352\n",
              "5   52.24908  0.15982  POINT (0.15982 52.24908)     5.178267\n",
              "6   52.24907  0.15987  POINT (0.15987 52.24907)     3.526328\n",
              "7   52.24901  0.15994  POINT (0.15994 52.24901)     7.121904\n",
              "8   52.24897  0.16003  POINT (0.16003 52.24897)     7.082828\n",
              "9   52.24920  0.16068  POINT (0.16068 52.24920)    48.787015\n",
              "10  52.24886  0.16025  POINT (0.16025 52.24886)    41.919615\n",
              "11  52.24880  0.16037  POINT (0.16037 52.24880)     9.748517\n",
              "12  52.24878  0.16036  POINT (0.16036 52.24878)     1.887499\n",
              "13  52.24873  0.16035  POINT (0.16035 52.24873)     4.451711\n",
              "14  52.24869  0.16030  POINT (0.16030 52.24869)     4.903665\n",
              "15  52.24864  0.16027  POINT (0.16027 52.24864)     4.852757\n",
              "16  52.24862  0.16024  POINT (0.16024 52.24862)     2.700780\n",
              "17  52.24828  0.16017  POINT (0.16017 52.24828)    30.292771"
            ],
            "text/html": [
              "\n",
              "  <div id=\"df-136b2a4b-055a-413b-ac8d-bd85470d2a7e\" class=\"colab-df-container\">\n",
              "    <div>\n",
              "<style scoped>\n",
              "    .dataframe tbody tr th:only-of-type {\n",
              "        vertical-align: middle;\n",
              "    }\n",
              "\n",
              "    .dataframe tbody tr th {\n",
              "        vertical-align: top;\n",
              "    }\n",
              "\n",
              "    .dataframe thead th {\n",
              "        text-align: right;\n",
              "    }\n",
              "</style>\n",
              "<table border=\"1\" class=\"dataframe\">\n",
              "  <thead>\n",
              "    <tr style=\"text-align: right;\">\n",
              "      <th></th>\n",
              "      <th>LAT_DD</th>\n",
              "      <th>LONG_DD</th>\n",
              "      <th>GEOMETRY</th>\n",
              "      <th>DIST_NEXT_M</th>\n",
              "    </tr>\n",
              "  </thead>\n",
              "  <tbody>\n",
              "    <tr>\n",
              "      <th>0</th>\n",
              "      <td>52.24947</td>\n",
              "      <td>0.16015</td>\n",
              "      <td>POINT (0.16015 52.24947)</td>\n",
              "      <td>NaN</td>\n",
              "    </tr>\n",
              "    <tr>\n",
              "      <th>1</th>\n",
              "      <td>52.24938</td>\n",
              "      <td>0.16001</td>\n",
              "      <td>POINT (0.16001 52.24938)</td>\n",
              "      <td>12.414489</td>\n",
              "    </tr>\n",
              "    <tr>\n",
              "      <th>2</th>\n",
              "      <td>52.24930</td>\n",
              "      <td>0.15992</td>\n",
              "      <td>POINT (0.15992 52.24930)</td>\n",
              "      <td>9.344573</td>\n",
              "    </tr>\n",
              "    <tr>\n",
              "      <th>3</th>\n",
              "      <td>52.24920</td>\n",
              "      <td>0.15982</td>\n",
              "      <td>POINT (0.15982 52.24920)</td>\n",
              "      <td>11.137752</td>\n",
              "    </tr>\n",
              "    <tr>\n",
              "      <th>4</th>\n",
              "      <td>52.24913</td>\n",
              "      <td>0.15978</td>\n",
              "      <td>POINT (0.15978 52.24913)</td>\n",
              "      <td>6.737352</td>\n",
              "    </tr>\n",
              "    <tr>\n",
              "      <th>5</th>\n",
              "      <td>52.24908</td>\n",
              "      <td>0.15982</td>\n",
              "      <td>POINT (0.15982 52.24908)</td>\n",
              "      <td>5.178267</td>\n",
              "    </tr>\n",
              "    <tr>\n",
              "      <th>6</th>\n",
              "      <td>52.24907</td>\n",
              "      <td>0.15987</td>\n",
              "      <td>POINT (0.15987 52.24907)</td>\n",
              "      <td>3.526328</td>\n",
              "    </tr>\n",
              "    <tr>\n",
              "      <th>7</th>\n",
              "      <td>52.24901</td>\n",
              "      <td>0.15994</td>\n",
              "      <td>POINT (0.15994 52.24901)</td>\n",
              "      <td>7.121904</td>\n",
              "    </tr>\n",
              "    <tr>\n",
              "      <th>8</th>\n",
              "      <td>52.24897</td>\n",
              "      <td>0.16003</td>\n",
              "      <td>POINT (0.16003 52.24897)</td>\n",
              "      <td>7.082828</td>\n",
              "    </tr>\n",
              "    <tr>\n",
              "      <th>9</th>\n",
              "      <td>52.24920</td>\n",
              "      <td>0.16068</td>\n",
              "      <td>POINT (0.16068 52.24920)</td>\n",
              "      <td>48.787015</td>\n",
              "    </tr>\n",
              "    <tr>\n",
              "      <th>10</th>\n",
              "      <td>52.24886</td>\n",
              "      <td>0.16025</td>\n",
              "      <td>POINT (0.16025 52.24886)</td>\n",
              "      <td>41.919615</td>\n",
              "    </tr>\n",
              "    <tr>\n",
              "      <th>11</th>\n",
              "      <td>52.24880</td>\n",
              "      <td>0.16037</td>\n",
              "      <td>POINT (0.16037 52.24880)</td>\n",
              "      <td>9.748517</td>\n",
              "    </tr>\n",
              "    <tr>\n",
              "      <th>12</th>\n",
              "      <td>52.24878</td>\n",
              "      <td>0.16036</td>\n",
              "      <td>POINT (0.16036 52.24878)</td>\n",
              "      <td>1.887499</td>\n",
              "    </tr>\n",
              "    <tr>\n",
              "      <th>13</th>\n",
              "      <td>52.24873</td>\n",
              "      <td>0.16035</td>\n",
              "      <td>POINT (0.16035 52.24873)</td>\n",
              "      <td>4.451711</td>\n",
              "    </tr>\n",
              "    <tr>\n",
              "      <th>14</th>\n",
              "      <td>52.24869</td>\n",
              "      <td>0.16030</td>\n",
              "      <td>POINT (0.16030 52.24869)</td>\n",
              "      <td>4.903665</td>\n",
              "    </tr>\n",
              "    <tr>\n",
              "      <th>15</th>\n",
              "      <td>52.24864</td>\n",
              "      <td>0.16027</td>\n",
              "      <td>POINT (0.16027 52.24864)</td>\n",
              "      <td>4.852757</td>\n",
              "    </tr>\n",
              "    <tr>\n",
              "      <th>16</th>\n",
              "      <td>52.24862</td>\n",
              "      <td>0.16024</td>\n",
              "      <td>POINT (0.16024 52.24862)</td>\n",
              "      <td>2.700780</td>\n",
              "    </tr>\n",
              "    <tr>\n",
              "      <th>17</th>\n",
              "      <td>52.24828</td>\n",
              "      <td>0.16017</td>\n",
              "      <td>POINT (0.16017 52.24828)</td>\n",
              "      <td>30.292771</td>\n",
              "    </tr>\n",
              "  </tbody>\n",
              "</table>\n",
              "</div>\n",
              "    <div class=\"colab-df-buttons\">\n",
              "\n",
              "  <div class=\"colab-df-container\">\n",
              "    <button class=\"colab-df-convert\" onclick=\"convertToInteractive('df-136b2a4b-055a-413b-ac8d-bd85470d2a7e')\"\n",
              "            title=\"Convert this dataframe to an interactive table.\"\n",
              "            style=\"display:none;\">\n",
              "\n",
              "  <svg xmlns=\"http://www.w3.org/2000/svg\" height=\"24px\" viewBox=\"0 -960 960 960\">\n",
              "    <path d=\"M120-120v-720h720v720H120Zm60-500h600v-160H180v160Zm220 220h160v-160H400v160Zm0 220h160v-160H400v160ZM180-400h160v-160H180v160Zm440 0h160v-160H620v160ZM180-180h160v-160H180v160Zm440 0h160v-160H620v160Z\"/>\n",
              "  </svg>\n",
              "    </button>\n",
              "\n",
              "  <style>\n",
              "    .colab-df-container {\n",
              "      display:flex;\n",
              "      gap: 12px;\n",
              "    }\n",
              "\n",
              "    .colab-df-convert {\n",
              "      background-color: #E8F0FE;\n",
              "      border: none;\n",
              "      border-radius: 50%;\n",
              "      cursor: pointer;\n",
              "      display: none;\n",
              "      fill: #1967D2;\n",
              "      height: 32px;\n",
              "      padding: 0 0 0 0;\n",
              "      width: 32px;\n",
              "    }\n",
              "\n",
              "    .colab-df-convert:hover {\n",
              "      background-color: #E2EBFA;\n",
              "      box-shadow: 0px 1px 2px rgba(60, 64, 67, 0.3), 0px 1px 3px 1px rgba(60, 64, 67, 0.15);\n",
              "      fill: #174EA6;\n",
              "    }\n",
              "\n",
              "    .colab-df-buttons div {\n",
              "      margin-bottom: 4px;\n",
              "    }\n",
              "\n",
              "    [theme=dark] .colab-df-convert {\n",
              "      background-color: #3B4455;\n",
              "      fill: #D2E3FC;\n",
              "    }\n",
              "\n",
              "    [theme=dark] .colab-df-convert:hover {\n",
              "      background-color: #434B5C;\n",
              "      box-shadow: 0px 1px 3px 1px rgba(0, 0, 0, 0.15);\n",
              "      filter: drop-shadow(0px 1px 2px rgba(0, 0, 0, 0.3));\n",
              "      fill: #FFFFFF;\n",
              "    }\n",
              "  </style>\n",
              "\n",
              "    <script>\n",
              "      const buttonEl =\n",
              "        document.querySelector('#df-136b2a4b-055a-413b-ac8d-bd85470d2a7e button.colab-df-convert');\n",
              "      buttonEl.style.display =\n",
              "        google.colab.kernel.accessAllowed ? 'block' : 'none';\n",
              "\n",
              "      async function convertToInteractive(key) {\n",
              "        const element = document.querySelector('#df-136b2a4b-055a-413b-ac8d-bd85470d2a7e');\n",
              "        const dataTable =\n",
              "          await google.colab.kernel.invokeFunction('convertToInteractive',\n",
              "                                                    [key], {});\n",
              "        if (!dataTable) return;\n",
              "\n",
              "        const docLinkHtml = 'Like what you see? Visit the ' +\n",
              "          '<a target=\"_blank\" href=https://colab.research.google.com/notebooks/data_table.ipynb>data table notebook</a>'\n",
              "          + ' to learn more about interactive tables.';\n",
              "        element.innerHTML = '';\n",
              "        dataTable['output_type'] = 'display_data';\n",
              "        await google.colab.output.renderOutput(dataTable, element);\n",
              "        const docLink = document.createElement('div');\n",
              "        docLink.innerHTML = docLinkHtml;\n",
              "        element.appendChild(docLink);\n",
              "      }\n",
              "    </script>\n",
              "  </div>\n",
              "\n",
              "\n",
              "<div id=\"df-edbb169b-a4e5-414e-bfaf-5cd8a52cd72c\">\n",
              "  <button class=\"colab-df-quickchart\" onclick=\"quickchart('df-edbb169b-a4e5-414e-bfaf-5cd8a52cd72c')\"\n",
              "            title=\"Suggest charts\"\n",
              "            style=\"display:none;\">\n",
              "\n",
              "<svg xmlns=\"http://www.w3.org/2000/svg\" height=\"24px\"viewBox=\"0 0 24 24\"\n",
              "     width=\"24px\">\n",
              "    <g>\n",
              "        <path d=\"M19 3H5c-1.1 0-2 .9-2 2v14c0 1.1.9 2 2 2h14c1.1 0 2-.9 2-2V5c0-1.1-.9-2-2-2zM9 17H7v-7h2v7zm4 0h-2V7h2v10zm4 0h-2v-4h2v4z\"/>\n",
              "    </g>\n",
              "</svg>\n",
              "  </button>\n",
              "\n",
              "<style>\n",
              "  .colab-df-quickchart {\n",
              "      --bg-color: #E8F0FE;\n",
              "      --fill-color: #1967D2;\n",
              "      --hover-bg-color: #E2EBFA;\n",
              "      --hover-fill-color: #174EA6;\n",
              "      --disabled-fill-color: #AAA;\n",
              "      --disabled-bg-color: #DDD;\n",
              "  }\n",
              "\n",
              "  [theme=dark] .colab-df-quickchart {\n",
              "      --bg-color: #3B4455;\n",
              "      --fill-color: #D2E3FC;\n",
              "      --hover-bg-color: #434B5C;\n",
              "      --hover-fill-color: #FFFFFF;\n",
              "      --disabled-bg-color: #3B4455;\n",
              "      --disabled-fill-color: #666;\n",
              "  }\n",
              "\n",
              "  .colab-df-quickchart {\n",
              "    background-color: var(--bg-color);\n",
              "    border: none;\n",
              "    border-radius: 50%;\n",
              "    cursor: pointer;\n",
              "    display: none;\n",
              "    fill: var(--fill-color);\n",
              "    height: 32px;\n",
              "    padding: 0;\n",
              "    width: 32px;\n",
              "  }\n",
              "\n",
              "  .colab-df-quickchart:hover {\n",
              "    background-color: var(--hover-bg-color);\n",
              "    box-shadow: 0 1px 2px rgba(60, 64, 67, 0.3), 0 1px 3px 1px rgba(60, 64, 67, 0.15);\n",
              "    fill: var(--button-hover-fill-color);\n",
              "  }\n",
              "\n",
              "  .colab-df-quickchart-complete:disabled,\n",
              "  .colab-df-quickchart-complete:disabled:hover {\n",
              "    background-color: var(--disabled-bg-color);\n",
              "    fill: var(--disabled-fill-color);\n",
              "    box-shadow: none;\n",
              "  }\n",
              "\n",
              "  .colab-df-spinner {\n",
              "    border: 2px solid var(--fill-color);\n",
              "    border-color: transparent;\n",
              "    border-bottom-color: var(--fill-color);\n",
              "    animation:\n",
              "      spin 1s steps(1) infinite;\n",
              "  }\n",
              "\n",
              "  @keyframes spin {\n",
              "    0% {\n",
              "      border-color: transparent;\n",
              "      border-bottom-color: var(--fill-color);\n",
              "      border-left-color: var(--fill-color);\n",
              "    }\n",
              "    20% {\n",
              "      border-color: transparent;\n",
              "      border-left-color: var(--fill-color);\n",
              "      border-top-color: var(--fill-color);\n",
              "    }\n",
              "    30% {\n",
              "      border-color: transparent;\n",
              "      border-left-color: var(--fill-color);\n",
              "      border-top-color: var(--fill-color);\n",
              "      border-right-color: var(--fill-color);\n",
              "    }\n",
              "    40% {\n",
              "      border-color: transparent;\n",
              "      border-right-color: var(--fill-color);\n",
              "      border-top-color: var(--fill-color);\n",
              "    }\n",
              "    60% {\n",
              "      border-color: transparent;\n",
              "      border-right-color: var(--fill-color);\n",
              "    }\n",
              "    80% {\n",
              "      border-color: transparent;\n",
              "      border-right-color: var(--fill-color);\n",
              "      border-bottom-color: var(--fill-color);\n",
              "    }\n",
              "    90% {\n",
              "      border-color: transparent;\n",
              "      border-bottom-color: var(--fill-color);\n",
              "    }\n",
              "  }\n",
              "</style>\n",
              "\n",
              "  <script>\n",
              "    async function quickchart(key) {\n",
              "      const quickchartButtonEl =\n",
              "        document.querySelector('#' + key + ' button');\n",
              "      quickchartButtonEl.disabled = true;  // To prevent multiple clicks.\n",
              "      quickchartButtonEl.classList.add('colab-df-spinner');\n",
              "      try {\n",
              "        const charts = await google.colab.kernel.invokeFunction(\n",
              "            'suggestCharts', [key], {});\n",
              "      } catch (error) {\n",
              "        console.error('Error during call to suggestCharts:', error);\n",
              "      }\n",
              "      quickchartButtonEl.classList.remove('colab-df-spinner');\n",
              "      quickchartButtonEl.classList.add('colab-df-quickchart-complete');\n",
              "    }\n",
              "    (() => {\n",
              "      let quickchartButtonEl =\n",
              "        document.querySelector('#df-edbb169b-a4e5-414e-bfaf-5cd8a52cd72c button');\n",
              "      quickchartButtonEl.style.display =\n",
              "        google.colab.kernel.accessAllowed ? 'block' : 'none';\n",
              "    })();\n",
              "  </script>\n",
              "</div>\n",
              "    </div>\n",
              "  </div>\n"
            ],
            "application/vnd.google.colaboratory.intrinsic+json": {
              "type": "dataframe",
              "variable_name": "X",
              "summary": "{\n  \"name\": \"X\",\n  \"rows\": 18,\n  \"fields\": [\n    {\n      \"column\": \"LAT_DD\",\n      \"properties\": {\n        \"dtype\": \"number\",\n        \"std\": 0.00030671195317780316,\n        \"min\": 52.24828,\n        \"max\": 52.24947,\n        \"num_unique_values\": 17,\n        \"samples\": [\n          52.24947,\n          52.24938,\n          52.24908\n        ],\n        \"semantic_type\": \"\",\n        \"description\": \"\"\n      }\n    },\n    {\n      \"column\": \"LONG_DD\",\n      \"properties\": {\n        \"dtype\": \"number\",\n        \"std\": 0.0002455838714339684,\n        \"min\": 0.15978,\n        \"max\": 0.16068,\n        \"num_unique_values\": 17,\n        \"samples\": [\n          0.16015,\n          0.16001,\n          0.15987\n        ],\n        \"semantic_type\": \"\",\n        \"description\": \"\"\n      }\n    },\n    {\n      \"column\": \"GEOMETRY\",\n      \"properties\": {\n        \"dtype\": \"geometry\",\n        \"num_unique_values\": 18,\n        \"samples\": [\n          \"POINT (0.16015 52.24947)\",\n          \"POINT (0.16001 52.24938)\",\n          \"POINT (0.16003 52.24897)\"\n        ],\n        \"semantic_type\": \"\",\n        \"description\": \"\"\n      }\n    },\n    {\n      \"column\": \"DIST_NEXT_M\",\n      \"properties\": {\n        \"dtype\": \"number\",\n        \"std\": 13.994298218649712,\n        \"min\": 1.8874987492780175,\n        \"max\": 48.787014753363955,\n        \"num_unique_values\": 17,\n        \"samples\": [\n          12.414489384575443,\n          9.34457259405251,\n          3.5263275649428754\n        ],\n        \"semantic_type\": \"\",\n        \"description\": \"\"\n      }\n    }\n  ]\n}"
            }
          },
          "metadata": {},
          "execution_count": 165
        }
      ]
    },
    {
      "cell_type": "code",
      "source": [
        "def geometric_median(\n",
        "        X: Union[DataFrame, GeoDataFrame],\n",
        "        eps=1e-5):\n",
        "    \"\"\"Implementation of Yehuda Vardi and Cun-Hui Zhang's algorithm for the\n",
        "    geometric median. Weights have not been implimented.\n",
        "\n",
        "    Citation:\n",
        "        Vardi†, Y. & Zhang, C. (2000) The multivariate L1-median and\n",
        "        associated data depth\n",
        "    \"\"\"\n",
        "\n",
        "    # initialising 'median' to the centroid\n",
        "    y = np.mean(X, 0)\n",
        "\n",
        "    while True:\n",
        "        D = cdist(X, [y])\n",
        "        nonzeros = (D != 0)[:, 0]\n",
        "\n",
        "        Dinv = 1 / D[nonzeros]\n",
        "        Dinvs = np.sum(Dinv)\n",
        "        W = Dinv / Dinvs\n",
        "        T = np.sum(W * X[nonzeros], 0)\n",
        "\n",
        "        num_zeros = len(X) - np.sum(nonzeros)\n",
        "        if num_zeros == 0:\n",
        "            y1 = T\n",
        "        elif num_zeros == len(X):\n",
        "            return y\n",
        "        else:\n",
        "            R = (T - y) * Dinvs\n",
        "            r = np.linalg.norm(R)\n",
        "            rinv = 0 if r == 0 else num_zeros/r\n",
        "            y1 = max(0, 1-rinv)*T + min(1, rinv)*y\n",
        "\n",
        "        if euclidean(y, y1) < eps:\n",
        "            return y1\n",
        "\n",
        "        y = y1"
      ],
      "metadata": {
        "id": "P9BfuKYvvD8g"
      },
      "execution_count": 216,
      "outputs": []
    },
    {
      "cell_type": "code",
      "source": [
        "# FixedForwardWindowIndexer VariableOffsetWindowIndexer"
      ],
      "metadata": {
        "id": "RoSvCuAAkili"
      },
      "execution_count": null,
      "outputs": []
    },
    {
      "cell_type": "code",
      "source": [
        "def trajectory_zscore(\n",
        "        X: Union[DataFrame, GeoDataFrame],\n",
        "        window_size: int = 5,\n",
        "        std_threshold: float = 1.5) -> Union[DataFrame, GeoDataFrame]:\n",
        "    \"\"\"Calculates the Z-Score of a trajectory DataFrame latitude & longitude\n",
        "    values, using a sliding window and assigns a SW_NOISE column indicating\n",
        "    whether the window centre point's Z-Score is >= the threshold.\n",
        "\n",
        "    Info:\n",
        "        - Z-Score is a statistical measurement of a score's relationship\n",
        "        to the mean in a group of scores\n",
        "\n",
        "        - Can reveal if a value is typical/atypical for a specified data set\n",
        "\n",
        "        - In general, a Z-score of -3.0 to 3.0 suggests that a value is\n",
        "        within three standard deviations of its mean\n",
        "\n",
        "    Formula:\n",
        "        z = ( x - μ ) / σ\n",
        "\n",
        "    Parameters:\n",
        "        X (Union[DataFrame, GeoDataFrame]): Trajectory data\n",
        "\n",
        "        window_size (int): Sliding window size\n",
        "\n",
        "        std_threshold (float): Zscore threshold\n",
        "\n",
        "    Returns:\n",
        "        (Union[DataFrame, GeoDataFrame])\n",
        "    \"\"\"\n",
        "\n",
        "    # must specify columns in case of GeoDataFrame\n",
        "    # as operators are used for geospatial functions\n",
        "    columns = [\"LAT_DD\", \"LONG_DD\"]\n",
        "\n",
        "    # sliding window, with min_periods of 1 and center=True\n",
        "    # ensures all points at all indices receive a zscore\n",
        "    Xr = (\n",
        "        X[[\"LAT_DD\", \"LONG_DD\"]]\n",
        "            .rolling(window=window_size, min_periods=1, center=True))\n",
        "\n",
        "    # calculate absolute zscore value\n",
        "    Xz = ((X[[\"LAT_DD\", \"LONG_DD\"]] - Xr.mean()) / Xr.std(ddof=1)).abs()\n",
        "\n",
        "    # for the indices where Xz.LAT_DD >= std_threshold is False, the results\n",
        "    # of Xz.LONG_DD >= std_threshold are returned, which can be True|False.\n",
        "    # A True value indicates an outlier latitude or longitude point\n",
        "    return X.assign(\n",
        "        SW_NOISE=np.where(\n",
        "            # where condition == True...\n",
        "            Xz.LAT_DD >= std_threshold,\n",
        "            # return True...\n",
        "            True,\n",
        "            # else value of next condition...\n",
        "            Xz.LONG_DD >= std_threshold\n",
        "        )\n",
        "    )\n",
        "\n",
        "def trajectory_modified_zscore(\n",
        "        X: Union[DataFrame, GeoDataFrame],\n",
        "        window_size: int = 5,\n",
        "        mad_sigma: float = 3.5) -> Union[DataFrame, GeoDataFrame]:\n",
        "    \"\"\"Calculates the Median Absolute Deviation (MAD) of a trajectory\n",
        "    DataFrame latitude & longitude values, using a sliding window and\n",
        "    assigns a SW_NOISE column indicating whether the window centre\n",
        "    point's MAD is >= the threshold.\n",
        "\n",
        "    Info:\n",
        "        - MAD is a robust measure of staistical dispersion, being less\n",
        "        sensitive to outliers compared to the standard deviation\n",
        "\n",
        "        - Sensitivity to outliers can be adjusted by changing the\n",
        "        multiplier used to calculate its deviation-like measure\n",
        "\n",
        "        - Particularly useful for time series data\n",
        "\n",
        "        - If more than 50% of the distribution elements are zero, MAD\n",
        "        will also be zero\n",
        "\n",
        "    Formula:\n",
        "        MAD = C x median(|X − median(X)|)\n",
        "\n",
        "        C is a constant scale factor. This metric can be used as a robust\n",
        "        alternative to the standard deviation.\n",
        "\n",
        "    Parameters:\n",
        "        X (Union[DataFrame, GeoDataFrame]): Trajectory data\n",
        "\n",
        "        window_size (int): Sliding window size\n",
        "\n",
        "        mad_threshold (float): MAD threshold\n",
        "\n",
        "    Returns:\n",
        "        (Union[DataFrame, GeoDataFrame]): X with SW_NOISE noise column\n",
        "        indicating outliers (True|False) in LAT_DD|LONG_DD\n",
        "    \"\"\"\n",
        "\n",
        "    # must specify columns in case of GeoDataFrame\n",
        "    # as operators are used for geospatial functions\n",
        "    columns = [\"LAT_DD\", \"LONG_DD\"]\n",
        "\n",
        "    # sliding window, with min_periods of 1 and center=True\n",
        "    # ensures all points at all indices receive a zscore\n",
        "    Xr = (\n",
        "        X[[\"LAT_DD\", \"LONG_DD\"]]\n",
        "            .rolling(window=window_size, min_periods=1, center=True))\n",
        "\n",
        "    # calculate the MAD value and then the sliding window median\n",
        "    medianAD = (\n",
        "        X[[\"LAT_DD\", \"LONG_DD\"]]\n",
        "            .subtract(Xr.median())\n",
        "            .abs()\n",
        "            .rolling(window=window_size, min_periods=1, center=True)\n",
        "            .median()\n",
        "    )\n",
        "\n",
        "    display(Xr.std(ddof=1) / medianAD)\n",
        "\n",
        "    # calculate the Mean Absolute Deviation\n",
        "    meanAD = (\n",
        "        X[[\"LAT_DD\", \"LONG_DD\"]]\n",
        "            .subtract(Xr.mean())\n",
        "            .abs()\n",
        "            .rolling(window=window_size, min_periods=1, center=True)\n",
        "            .mean()\n",
        "    )\n",
        "\n",
        "    # MAD becomes 0 if > 50% distribution elements are == 0\n",
        "    # Where MAD == 0, subtract the median from the score and\n",
        "    # divide by 1.253314 * MeanAD. 1.253314 * MeanAD is\n",
        "    # approximately equal to the standard deviation\n",
        "\n",
        "    # where MAD is not 0, subtract the median from the score and\n",
        "    # divide by 1.486 * MAD. 1.486 * MAD approximately equals the\n",
        "    # standard deviation\n",
        "\n",
        "    # 1.4826 value is used as a scale factor, because it is the\n",
        "    # inverse of the 0.75 quantile for the standard normal distribution\n",
        "    # at this quantile, 50% of the standard normal CDF is covered\n",
        "    MAD = np.where(\n",
        "        # where medianAD == 0...\n",
        "        medianAD == 0.0,\n",
        "        # return MeanAD * 1.253314 (~std)\n",
        "        meanAD * 1.253314,\n",
        "        # else return medianAD * 1.4826 (~std)\n",
        "        medianAD * 1.4826\n",
        "    )\n",
        "\n",
        "    Xz = ((X[[\"LAT_DD\", \"LONG_DD\"]] - Xr.median()).abs()) / MAD\n",
        "\n",
        "    # for the indices where Xt.LAT_DD >= std_threshold is False, the results\n",
        "    # of Xt.LONG_DD >= std_threshold are returned, which can be True or False\n",
        "    # a True value indicates an outlier latitude or longitude point\n",
        "    return X.assign(\n",
        "        SW_NOISE=np.where(\n",
        "            # where condition == True...\n",
        "            Xz.LAT_DD >= mad_sigma,\n",
        "            # return True...\n",
        "            True,\n",
        "            # else value of next condition...\n",
        "            Xz.LONG_DD >= mad_sigma\n",
        "        )\n",
        "    )\n",
        "\n",
        "def trajectory_geo_modified_zscore(\n",
        "        X: Union[DataFrame, GeoDataFrame],\n",
        "        mad_sigma: float = 2.0) -> Union[DataFrame, GeoDataFrame]:\n",
        "    \"\"\"Calculates the modified Z-score using the Geometric Median Absolute\n",
        "    Deviation (MAD) of a trajectory latitude & longitude values.\n",
        "\n",
        "    Formula:\n",
        "        geometric median is calculated using an implementation of Yehuda\n",
        "        Vardi and Cun-Hui Zhang's algorithm.\n",
        "\n",
        "        MAD = C x median(|X − geometric median(X)|)\n",
        "\n",
        "        C is a constant scale factor. This metric can be used as a robust\n",
        "        alternative to the standard deviation.\n",
        "\n",
        "    Parameters:\n",
        "        X (Union[DataFrame, GeoDataFrame]): Trajectory data\n",
        "\n",
        "        mad_sigma (float): Z-Score MAD threshold\n",
        "\n",
        "    Returns:\n",
        "        (Union[DataFrame, GeoDataFrame]): X with SW_NOISE noise column\n",
        "        indicating outliers (True|False) in LAT_DD|LONG_DD\n",
        "    \"\"\"\n",
        "\n",
        "    # must specify columns in case of GeoDataFrame as\n",
        "    # operators can be used for geospatial functions\n",
        "    geo_columns = [\"LAT_DD\", \"LONG_DD\"]\n",
        "\n",
        "    geo_median = geometric_median(X[[\"LAT_DD\", \"LONG_DD\"]])\n",
        "\n",
        "    geo_medianAD = (X[[\"LAT_DD\", \"LONG_DD\"]] - geo_median).abs().median()\n",
        "\n",
        "    # constant to make MAD representative of the standard deviation\n",
        "    # as the data is not normally distributed, we estimate using\n",
        "    # the standard deviation / MAD\n",
        "    C = X[[\"LAT_DD\", \"LONG_DD\"]].std(ddof=0) / geo_medianAD\n",
        "\n",
        "\n",
        "    Xz = (\n",
        "        (X[[\"LAT_DD\", \"LONG_DD\"]] - geo_median).abs() / (C * geo_medianAD)\n",
        "    )\n",
        "\n",
        "    return X.assign(\n",
        "        SW_NOISE=np.where(\n",
        "            # where condition == True...\n",
        "            Xz.LAT_DD >= mad_sigma,\n",
        "            # return True...\n",
        "            True,\n",
        "            # else value of next condition...\n",
        "            Xz.LONG_DD >= mad_sigma\n",
        "        )\n",
        "    )"
      ],
      "metadata": {
        "id": "l542m8tCaefh"
      },
      "execution_count": 234,
      "outputs": []
    },
    {
      "cell_type": "code",
      "source": [
        "mu, sigma = 0, 1 # mean and standard deviation\n",
        "norm_data = np.random.normal(mu, sigma, 1000)\n",
        "\n",
        "norm_data_MedianAD = (\n",
        "    # median of the absolute diference from the median\n",
        "    np.median(np.abs(norm_data - np.median(norm_data)))\n",
        ")\n"
      ],
      "metadata": {
        "id": "YZty8H8fZY0Y"
      },
      "execution_count": 97,
      "outputs": []
    },
    {
      "cell_type": "markdown",
      "source": [
        "## Z-Score\n",
        "\n",
        "Window size of 8 and htrshold of 1.5 identifies both outliers in the trajectory."
      ],
      "metadata": {
        "id": "vF9Pll7AGmH0"
      }
    },
    {
      "cell_type": "code",
      "source": [
        "trajectory_zscore(X, window_size=8, std_threshold=1.5)"
      ],
      "metadata": {
        "colab": {
          "base_uri": "https://localhost:8080/",
          "height": 614
        },
        "id": "AX5mzf6h1-9o",
        "outputId": "6b94df6f-0962-465d-d206-3bf287ca73d2"
      },
      "execution_count": 249,
      "outputs": [
        {
          "output_type": "execute_result",
          "data": {
            "text/plain": [
              "      LAT_DD  LONG_DD                  GEOMETRY  DIST_NEXT_M  SW_NOISE\n",
              "0   52.24947  0.16015  POINT (0.16015 52.24947)          NaN     False\n",
              "1   52.24938  0.16001  POINT (0.16001 52.24938)    12.414489     False\n",
              "2   52.24930  0.15992  POINT (0.15992 52.24930)     9.344573     False\n",
              "3   52.24920  0.15982  POINT (0.15982 52.24920)    11.137752     False\n",
              "4   52.24913  0.15978  POINT (0.15978 52.24913)     6.737352     False\n",
              "5   52.24908  0.15982  POINT (0.15982 52.24908)     5.178267     False\n",
              "6   52.24907  0.15987  POINT (0.15987 52.24907)     3.526328     False\n",
              "7   52.24901  0.15994  POINT (0.15994 52.24901)     7.121904     False\n",
              "8   52.24897  0.16003  POINT (0.16003 52.24897)     7.082828     False\n",
              "9   52.24920  0.16068  POINT (0.16068 52.24920)    48.787015      True\n",
              "10  52.24886  0.16025  POINT (0.16025 52.24886)    41.919615     False\n",
              "11  52.24880  0.16037  POINT (0.16037 52.24880)     9.748517     False\n",
              "12  52.24878  0.16036  POINT (0.16036 52.24878)     1.887499     False\n",
              "13  52.24873  0.16035  POINT (0.16035 52.24873)     4.451711     False\n",
              "14  52.24869  0.16030  POINT (0.16030 52.24869)     4.903665     False\n",
              "15  52.24864  0.16027  POINT (0.16027 52.24864)     4.852757     False\n",
              "16  52.24862  0.16024  POINT (0.16024 52.24862)     2.700780     False\n",
              "17  52.24828  0.16017  POINT (0.16017 52.24828)    30.292771      True"
            ],
            "text/html": [
              "\n",
              "  <div id=\"df-cc89c715-474a-4669-bde1-33ee8c612180\" class=\"colab-df-container\">\n",
              "    <div>\n",
              "<style scoped>\n",
              "    .dataframe tbody tr th:only-of-type {\n",
              "        vertical-align: middle;\n",
              "    }\n",
              "\n",
              "    .dataframe tbody tr th {\n",
              "        vertical-align: top;\n",
              "    }\n",
              "\n",
              "    .dataframe thead th {\n",
              "        text-align: right;\n",
              "    }\n",
              "</style>\n",
              "<table border=\"1\" class=\"dataframe\">\n",
              "  <thead>\n",
              "    <tr style=\"text-align: right;\">\n",
              "      <th></th>\n",
              "      <th>LAT_DD</th>\n",
              "      <th>LONG_DD</th>\n",
              "      <th>GEOMETRY</th>\n",
              "      <th>DIST_NEXT_M</th>\n",
              "      <th>SW_NOISE</th>\n",
              "    </tr>\n",
              "  </thead>\n",
              "  <tbody>\n",
              "    <tr>\n",
              "      <th>0</th>\n",
              "      <td>52.24947</td>\n",
              "      <td>0.16015</td>\n",
              "      <td>POINT (0.16015 52.24947)</td>\n",
              "      <td>NaN</td>\n",
              "      <td>False</td>\n",
              "    </tr>\n",
              "    <tr>\n",
              "      <th>1</th>\n",
              "      <td>52.24938</td>\n",
              "      <td>0.16001</td>\n",
              "      <td>POINT (0.16001 52.24938)</td>\n",
              "      <td>12.414489</td>\n",
              "      <td>False</td>\n",
              "    </tr>\n",
              "    <tr>\n",
              "      <th>2</th>\n",
              "      <td>52.24930</td>\n",
              "      <td>0.15992</td>\n",
              "      <td>POINT (0.15992 52.24930)</td>\n",
              "      <td>9.344573</td>\n",
              "      <td>False</td>\n",
              "    </tr>\n",
              "    <tr>\n",
              "      <th>3</th>\n",
              "      <td>52.24920</td>\n",
              "      <td>0.15982</td>\n",
              "      <td>POINT (0.15982 52.24920)</td>\n",
              "      <td>11.137752</td>\n",
              "      <td>False</td>\n",
              "    </tr>\n",
              "    <tr>\n",
              "      <th>4</th>\n",
              "      <td>52.24913</td>\n",
              "      <td>0.15978</td>\n",
              "      <td>POINT (0.15978 52.24913)</td>\n",
              "      <td>6.737352</td>\n",
              "      <td>False</td>\n",
              "    </tr>\n",
              "    <tr>\n",
              "      <th>5</th>\n",
              "      <td>52.24908</td>\n",
              "      <td>0.15982</td>\n",
              "      <td>POINT (0.15982 52.24908)</td>\n",
              "      <td>5.178267</td>\n",
              "      <td>False</td>\n",
              "    </tr>\n",
              "    <tr>\n",
              "      <th>6</th>\n",
              "      <td>52.24907</td>\n",
              "      <td>0.15987</td>\n",
              "      <td>POINT (0.15987 52.24907)</td>\n",
              "      <td>3.526328</td>\n",
              "      <td>False</td>\n",
              "    </tr>\n",
              "    <tr>\n",
              "      <th>7</th>\n",
              "      <td>52.24901</td>\n",
              "      <td>0.15994</td>\n",
              "      <td>POINT (0.15994 52.24901)</td>\n",
              "      <td>7.121904</td>\n",
              "      <td>False</td>\n",
              "    </tr>\n",
              "    <tr>\n",
              "      <th>8</th>\n",
              "      <td>52.24897</td>\n",
              "      <td>0.16003</td>\n",
              "      <td>POINT (0.16003 52.24897)</td>\n",
              "      <td>7.082828</td>\n",
              "      <td>False</td>\n",
              "    </tr>\n",
              "    <tr>\n",
              "      <th>9</th>\n",
              "      <td>52.24920</td>\n",
              "      <td>0.16068</td>\n",
              "      <td>POINT (0.16068 52.24920)</td>\n",
              "      <td>48.787015</td>\n",
              "      <td>True</td>\n",
              "    </tr>\n",
              "    <tr>\n",
              "      <th>10</th>\n",
              "      <td>52.24886</td>\n",
              "      <td>0.16025</td>\n",
              "      <td>POINT (0.16025 52.24886)</td>\n",
              "      <td>41.919615</td>\n",
              "      <td>False</td>\n",
              "    </tr>\n",
              "    <tr>\n",
              "      <th>11</th>\n",
              "      <td>52.24880</td>\n",
              "      <td>0.16037</td>\n",
              "      <td>POINT (0.16037 52.24880)</td>\n",
              "      <td>9.748517</td>\n",
              "      <td>False</td>\n",
              "    </tr>\n",
              "    <tr>\n",
              "      <th>12</th>\n",
              "      <td>52.24878</td>\n",
              "      <td>0.16036</td>\n",
              "      <td>POINT (0.16036 52.24878)</td>\n",
              "      <td>1.887499</td>\n",
              "      <td>False</td>\n",
              "    </tr>\n",
              "    <tr>\n",
              "      <th>13</th>\n",
              "      <td>52.24873</td>\n",
              "      <td>0.16035</td>\n",
              "      <td>POINT (0.16035 52.24873)</td>\n",
              "      <td>4.451711</td>\n",
              "      <td>False</td>\n",
              "    </tr>\n",
              "    <tr>\n",
              "      <th>14</th>\n",
              "      <td>52.24869</td>\n",
              "      <td>0.16030</td>\n",
              "      <td>POINT (0.16030 52.24869)</td>\n",
              "      <td>4.903665</td>\n",
              "      <td>False</td>\n",
              "    </tr>\n",
              "    <tr>\n",
              "      <th>15</th>\n",
              "      <td>52.24864</td>\n",
              "      <td>0.16027</td>\n",
              "      <td>POINT (0.16027 52.24864)</td>\n",
              "      <td>4.852757</td>\n",
              "      <td>False</td>\n",
              "    </tr>\n",
              "    <tr>\n",
              "      <th>16</th>\n",
              "      <td>52.24862</td>\n",
              "      <td>0.16024</td>\n",
              "      <td>POINT (0.16024 52.24862)</td>\n",
              "      <td>2.700780</td>\n",
              "      <td>False</td>\n",
              "    </tr>\n",
              "    <tr>\n",
              "      <th>17</th>\n",
              "      <td>52.24828</td>\n",
              "      <td>0.16017</td>\n",
              "      <td>POINT (0.16017 52.24828)</td>\n",
              "      <td>30.292771</td>\n",
              "      <td>True</td>\n",
              "    </tr>\n",
              "  </tbody>\n",
              "</table>\n",
              "</div>\n",
              "    <div class=\"colab-df-buttons\">\n",
              "\n",
              "  <div class=\"colab-df-container\">\n",
              "    <button class=\"colab-df-convert\" onclick=\"convertToInteractive('df-cc89c715-474a-4669-bde1-33ee8c612180')\"\n",
              "            title=\"Convert this dataframe to an interactive table.\"\n",
              "            style=\"display:none;\">\n",
              "\n",
              "  <svg xmlns=\"http://www.w3.org/2000/svg\" height=\"24px\" viewBox=\"0 -960 960 960\">\n",
              "    <path d=\"M120-120v-720h720v720H120Zm60-500h600v-160H180v160Zm220 220h160v-160H400v160Zm0 220h160v-160H400v160ZM180-400h160v-160H180v160Zm440 0h160v-160H620v160ZM180-180h160v-160H180v160Zm440 0h160v-160H620v160Z\"/>\n",
              "  </svg>\n",
              "    </button>\n",
              "\n",
              "  <style>\n",
              "    .colab-df-container {\n",
              "      display:flex;\n",
              "      gap: 12px;\n",
              "    }\n",
              "\n",
              "    .colab-df-convert {\n",
              "      background-color: #E8F0FE;\n",
              "      border: none;\n",
              "      border-radius: 50%;\n",
              "      cursor: pointer;\n",
              "      display: none;\n",
              "      fill: #1967D2;\n",
              "      height: 32px;\n",
              "      padding: 0 0 0 0;\n",
              "      width: 32px;\n",
              "    }\n",
              "\n",
              "    .colab-df-convert:hover {\n",
              "      background-color: #E2EBFA;\n",
              "      box-shadow: 0px 1px 2px rgba(60, 64, 67, 0.3), 0px 1px 3px 1px rgba(60, 64, 67, 0.15);\n",
              "      fill: #174EA6;\n",
              "    }\n",
              "\n",
              "    .colab-df-buttons div {\n",
              "      margin-bottom: 4px;\n",
              "    }\n",
              "\n",
              "    [theme=dark] .colab-df-convert {\n",
              "      background-color: #3B4455;\n",
              "      fill: #D2E3FC;\n",
              "    }\n",
              "\n",
              "    [theme=dark] .colab-df-convert:hover {\n",
              "      background-color: #434B5C;\n",
              "      box-shadow: 0px 1px 3px 1px rgba(0, 0, 0, 0.15);\n",
              "      filter: drop-shadow(0px 1px 2px rgba(0, 0, 0, 0.3));\n",
              "      fill: #FFFFFF;\n",
              "    }\n",
              "  </style>\n",
              "\n",
              "    <script>\n",
              "      const buttonEl =\n",
              "        document.querySelector('#df-cc89c715-474a-4669-bde1-33ee8c612180 button.colab-df-convert');\n",
              "      buttonEl.style.display =\n",
              "        google.colab.kernel.accessAllowed ? 'block' : 'none';\n",
              "\n",
              "      async function convertToInteractive(key) {\n",
              "        const element = document.querySelector('#df-cc89c715-474a-4669-bde1-33ee8c612180');\n",
              "        const dataTable =\n",
              "          await google.colab.kernel.invokeFunction('convertToInteractive',\n",
              "                                                    [key], {});\n",
              "        if (!dataTable) return;\n",
              "\n",
              "        const docLinkHtml = 'Like what you see? Visit the ' +\n",
              "          '<a target=\"_blank\" href=https://colab.research.google.com/notebooks/data_table.ipynb>data table notebook</a>'\n",
              "          + ' to learn more about interactive tables.';\n",
              "        element.innerHTML = '';\n",
              "        dataTable['output_type'] = 'display_data';\n",
              "        await google.colab.output.renderOutput(dataTable, element);\n",
              "        const docLink = document.createElement('div');\n",
              "        docLink.innerHTML = docLinkHtml;\n",
              "        element.appendChild(docLink);\n",
              "      }\n",
              "    </script>\n",
              "  </div>\n",
              "\n",
              "\n",
              "<div id=\"df-4f4f8950-7779-4936-bbda-92ddcb6c7ecf\">\n",
              "  <button class=\"colab-df-quickchart\" onclick=\"quickchart('df-4f4f8950-7779-4936-bbda-92ddcb6c7ecf')\"\n",
              "            title=\"Suggest charts\"\n",
              "            style=\"display:none;\">\n",
              "\n",
              "<svg xmlns=\"http://www.w3.org/2000/svg\" height=\"24px\"viewBox=\"0 0 24 24\"\n",
              "     width=\"24px\">\n",
              "    <g>\n",
              "        <path d=\"M19 3H5c-1.1 0-2 .9-2 2v14c0 1.1.9 2 2 2h14c1.1 0 2-.9 2-2V5c0-1.1-.9-2-2-2zM9 17H7v-7h2v7zm4 0h-2V7h2v10zm4 0h-2v-4h2v4z\"/>\n",
              "    </g>\n",
              "</svg>\n",
              "  </button>\n",
              "\n",
              "<style>\n",
              "  .colab-df-quickchart {\n",
              "      --bg-color: #E8F0FE;\n",
              "      --fill-color: #1967D2;\n",
              "      --hover-bg-color: #E2EBFA;\n",
              "      --hover-fill-color: #174EA6;\n",
              "      --disabled-fill-color: #AAA;\n",
              "      --disabled-bg-color: #DDD;\n",
              "  }\n",
              "\n",
              "  [theme=dark] .colab-df-quickchart {\n",
              "      --bg-color: #3B4455;\n",
              "      --fill-color: #D2E3FC;\n",
              "      --hover-bg-color: #434B5C;\n",
              "      --hover-fill-color: #FFFFFF;\n",
              "      --disabled-bg-color: #3B4455;\n",
              "      --disabled-fill-color: #666;\n",
              "  }\n",
              "\n",
              "  .colab-df-quickchart {\n",
              "    background-color: var(--bg-color);\n",
              "    border: none;\n",
              "    border-radius: 50%;\n",
              "    cursor: pointer;\n",
              "    display: none;\n",
              "    fill: var(--fill-color);\n",
              "    height: 32px;\n",
              "    padding: 0;\n",
              "    width: 32px;\n",
              "  }\n",
              "\n",
              "  .colab-df-quickchart:hover {\n",
              "    background-color: var(--hover-bg-color);\n",
              "    box-shadow: 0 1px 2px rgba(60, 64, 67, 0.3), 0 1px 3px 1px rgba(60, 64, 67, 0.15);\n",
              "    fill: var(--button-hover-fill-color);\n",
              "  }\n",
              "\n",
              "  .colab-df-quickchart-complete:disabled,\n",
              "  .colab-df-quickchart-complete:disabled:hover {\n",
              "    background-color: var(--disabled-bg-color);\n",
              "    fill: var(--disabled-fill-color);\n",
              "    box-shadow: none;\n",
              "  }\n",
              "\n",
              "  .colab-df-spinner {\n",
              "    border: 2px solid var(--fill-color);\n",
              "    border-color: transparent;\n",
              "    border-bottom-color: var(--fill-color);\n",
              "    animation:\n",
              "      spin 1s steps(1) infinite;\n",
              "  }\n",
              "\n",
              "  @keyframes spin {\n",
              "    0% {\n",
              "      border-color: transparent;\n",
              "      border-bottom-color: var(--fill-color);\n",
              "      border-left-color: var(--fill-color);\n",
              "    }\n",
              "    20% {\n",
              "      border-color: transparent;\n",
              "      border-left-color: var(--fill-color);\n",
              "      border-top-color: var(--fill-color);\n",
              "    }\n",
              "    30% {\n",
              "      border-color: transparent;\n",
              "      border-left-color: var(--fill-color);\n",
              "      border-top-color: var(--fill-color);\n",
              "      border-right-color: var(--fill-color);\n",
              "    }\n",
              "    40% {\n",
              "      border-color: transparent;\n",
              "      border-right-color: var(--fill-color);\n",
              "      border-top-color: var(--fill-color);\n",
              "    }\n",
              "    60% {\n",
              "      border-color: transparent;\n",
              "      border-right-color: var(--fill-color);\n",
              "    }\n",
              "    80% {\n",
              "      border-color: transparent;\n",
              "      border-right-color: var(--fill-color);\n",
              "      border-bottom-color: var(--fill-color);\n",
              "    }\n",
              "    90% {\n",
              "      border-color: transparent;\n",
              "      border-bottom-color: var(--fill-color);\n",
              "    }\n",
              "  }\n",
              "</style>\n",
              "\n",
              "  <script>\n",
              "    async function quickchart(key) {\n",
              "      const quickchartButtonEl =\n",
              "        document.querySelector('#' + key + ' button');\n",
              "      quickchartButtonEl.disabled = true;  // To prevent multiple clicks.\n",
              "      quickchartButtonEl.classList.add('colab-df-spinner');\n",
              "      try {\n",
              "        const charts = await google.colab.kernel.invokeFunction(\n",
              "            'suggestCharts', [key], {});\n",
              "      } catch (error) {\n",
              "        console.error('Error during call to suggestCharts:', error);\n",
              "      }\n",
              "      quickchartButtonEl.classList.remove('colab-df-spinner');\n",
              "      quickchartButtonEl.classList.add('colab-df-quickchart-complete');\n",
              "    }\n",
              "    (() => {\n",
              "      let quickchartButtonEl =\n",
              "        document.querySelector('#df-4f4f8950-7779-4936-bbda-92ddcb6c7ecf button');\n",
              "      quickchartButtonEl.style.display =\n",
              "        google.colab.kernel.accessAllowed ? 'block' : 'none';\n",
              "    })();\n",
              "  </script>\n",
              "</div>\n",
              "    </div>\n",
              "  </div>\n"
            ],
            "application/vnd.google.colaboratory.intrinsic+json": {
              "type": "dataframe",
              "summary": "{\n  \"name\": \"trajectory_zscore(X, window_size=8, std_threshold=1\",\n  \"rows\": 18,\n  \"fields\": [\n    {\n      \"column\": \"LAT_DD\",\n      \"properties\": {\n        \"dtype\": \"number\",\n        \"std\": 0.00030671195317780316,\n        \"min\": 52.24828,\n        \"max\": 52.24947,\n        \"num_unique_values\": 17,\n        \"samples\": [\n          52.24947,\n          52.24938,\n          52.24908\n        ],\n        \"semantic_type\": \"\",\n        \"description\": \"\"\n      }\n    },\n    {\n      \"column\": \"LONG_DD\",\n      \"properties\": {\n        \"dtype\": \"number\",\n        \"std\": 0.0002455838714339684,\n        \"min\": 0.15978,\n        \"max\": 0.16068,\n        \"num_unique_values\": 17,\n        \"samples\": [\n          0.16015,\n          0.16001,\n          0.15987\n        ],\n        \"semantic_type\": \"\",\n        \"description\": \"\"\n      }\n    },\n    {\n      \"column\": \"GEOMETRY\",\n      \"properties\": {\n        \"dtype\": \"geometry\",\n        \"num_unique_values\": 18,\n        \"samples\": [\n          \"POINT (0.16015 52.24947)\",\n          \"POINT (0.16001 52.24938)\",\n          \"POINT (0.16003 52.24897)\"\n        ],\n        \"semantic_type\": \"\",\n        \"description\": \"\"\n      }\n    },\n    {\n      \"column\": \"DIST_NEXT_M\",\n      \"properties\": {\n        \"dtype\": \"number\",\n        \"std\": 13.994298218649712,\n        \"min\": 1.8874987492780175,\n        \"max\": 48.787014753363955,\n        \"num_unique_values\": 17,\n        \"samples\": [\n          12.414489384575443,\n          9.34457259405251,\n          3.5263275649428754\n        ],\n        \"semantic_type\": \"\",\n        \"description\": \"\"\n      }\n    },\n    {\n      \"column\": \"SW_NOISE\",\n      \"properties\": {\n        \"dtype\": \"boolean\",\n        \"num_unique_values\": 2,\n        \"samples\": [\n          true,\n          false\n        ],\n        \"semantic_type\": \"\",\n        \"description\": \"\"\n      }\n    }\n  ]\n}"
            }
          },
          "metadata": {},
          "execution_count": 249
        }
      ]
    },
    {
      "cell_type": "code",
      "source": [
        "def style_fn(x):\n",
        "    outlier = (\n",
        "        {\"fillColor\": \"red\", \"weight\": 2, \"radius\": 10}\n",
        "        if x[\"properties\"][\"SW_NOISE\"]\n",
        "        else dict()\n",
        "    )\n",
        "\n",
        "    return outlier"
      ],
      "metadata": {
        "id": "qYg7bnP305Tz"
      },
      "execution_count": 240,
      "outputs": []
    },
    {
      "cell_type": "code",
      "source": [
        "m_1 = leaf.Map(\n",
        "    center=[52.24886, 0.16025],\n",
        "    zoom=18,\n",
        "    layout=widgets.Layout(height=\"500px\", width=\"400px\"),\n",
        "    scroll_wheel_zoom=True,\n",
        ")\n",
        "\n",
        "m_1.add(leaf.GeoJSON(\n",
        "    data=json.loads(trajectory_zscore(X, window_size=8, std_threshold=1.5).to_json()),\n",
        "\n",
        "    style_callback=style_fn,\n",
        "    point_style={\n",
        "        \"color\": \"black\",\n",
        "        \"fillColor\": \"blue\",\n",
        "        \"fillOpacity\": 0.7,\n",
        "        \"radius\": 7,\n",
        "        \"weight\": 1,\n",
        "    }\n",
        ")\n",
        "\n",
        ")\n",
        "m_1.add(\n",
        "    leaf.Polyline(\n",
        "        locations=[\n",
        "            sorted(xy, reverse=True)\n",
        "            for xy in np.stack(LineString(X.GEOMETRY).xy, axis=1)\n",
        "        ],\n",
        "        fill=False\n",
        "    )\n",
        ")"
      ],
      "metadata": {
        "colab": {
          "base_uri": "https://localhost:8080/",
          "height": 521,
          "referenced_widgets": [
            "880da1808d8f4319a81c4a79711e3447",
            "1c4d9bfe6f0c45299dcb272d418f3c58",
            "9df4993627cf42798bcd5e76729ef66d",
            "47a7d96b539c4cd09bdc57abd4ba7ef2",
            "7472731d467047b08eab8decc9d43f66",
            "bb53ed5a73054262937eb720bb47745b",
            "b182c62cbd0d4e3b8e36e37df6a819c9",
            "8309527dbfd74352b02e130fdadc58aa",
            "60c21fd46966433e8443dd2f4e9c0f5e",
            "9f1a6b48861347e48a1889b170edcc90"
          ]
        },
        "id": "a9CjnHO05BUd",
        "outputId": "44926318-8970-4a6d-883d-e1be3c734502"
      },
      "execution_count": 241,
      "outputs": [
        {
          "output_type": "display_data",
          "data": {
            "text/plain": [
              "Map(center=[52.24886, 0.16025], controls=(ZoomControl(options=['position', 'zoom_in_text', 'zoom_in_title', 'z…"
            ],
            "application/vnd.jupyter.widget-view+json": {
              "version_major": 2,
              "version_minor": 0,
              "model_id": "880da1808d8f4319a81c4a79711e3447"
            }
          },
          "metadata": {
            "application/vnd.jupyter.widget-view+json": {
              "colab": {
                "custom_widget_manager": {
                  "url": "https://ssl.gstatic.com/colaboratory-static/widgets/colab-cdn-widget-manager/2b70e893a8ba7c0f/manager.min.js"
                }
              }
            }
          }
        }
      ]
    },
    {
      "cell_type": "markdown",
      "source": [
        "## Modified Z-Score With a Sliding Window\n",
        "\n",
        "Window size set to 6 and threshold of at least 2.5, identifies the the midal and final points as outliers."
      ],
      "metadata": {
        "id": "GyEwUlE_HDD8"
      }
    },
    {
      "cell_type": "code",
      "source": [
        "m_2 = leaf.Map(\n",
        "    center=[52.24886, 0.16025],\n",
        "    zoom=18,\n",
        "    layout=widgets.Layout(height=\"500px\", width=\"400px\"),\n",
        "    scroll_wheel_zoom=True,\n",
        ")\n",
        "\n",
        "m_2.add(leaf.GeoJSON(\n",
        "    data=json.loads(\n",
        "        trajectory_modified_zscore(X, window_size=6, mad_sigma=2.5)\n",
        "            .to_json()),\n",
        "    style_callback=style_fn,\n",
        "    point_style={\n",
        "        \"color\": \"black\",\n",
        "        \"fillColor\": \"blue\",\n",
        "        \"fillOpacity\": 0.7,\n",
        "        \"radius\": 7,\n",
        "        \"weight\": 1,\n",
        "    }\n",
        ")\n",
        "\n",
        ")\n",
        "m_2.add(\n",
        "    leaf.Polyline(\n",
        "        locations=[\n",
        "            sorted(xy, reverse=True)\n",
        "            for xy in np.stack(LineString(X.GEOMETRY).xy, axis=1)\n",
        "        ],\n",
        "        fill=False\n",
        "    )\n",
        ")"
      ],
      "metadata": {
        "colab": {
          "base_uri": "https://localhost:8080/",
          "height": 1000,
          "referenced_widgets": [
            "80779ac7f89c40f887d1f1b8e7c874dc",
            "708988d9140946e381f77571a4f2fe7f",
            "cc9707ca020643138cb672128448d9d0",
            "9b3d6ba032b444c3b624bcce150b50be",
            "569077dc01164077a7a6be501d3bb403",
            "3874da91f8444ca99e44bb43e1eb67f4",
            "0078cc5c2ba54fbd9e6076ca57e5d409",
            "1d0bf523f7dc44dc9586f673330f80ca",
            "edd72b6d0d8748e1908e4a45ed0df7a5",
            "7ac3af4ac0334350acf6de0096a974c3"
          ]
        },
        "id": "T2eNBiGSSVZG",
        "outputId": "dc84752c-ed23-4274-dffa-00110d437b37"
      },
      "execution_count": 248,
      "outputs": [
        {
          "output_type": "display_data",
          "data": {
            "text/plain": [
              "      LAT_DD   LONG_DD\n",
              "0   2.126225  2.575606\n",
              "1   2.555556  2.949874\n",
              "2   3.403124  2.988645\n",
              "3   4.008879  2.985221\n",
              "4   4.172219  2.397277\n",
              "5   3.473178  2.091429\n",
              "6   1.938382  2.327373\n",
              "7   1.647625  8.383019\n",
              "8   1.913161  8.067553\n",
              "9   2.405434  7.637081\n",
              "10  2.634529  6.643449\n",
              "11  4.064531  6.009516\n",
              "12  6.699862  6.054420\n",
              "13  3.179937  2.523225\n",
              "14  3.253868  2.659887\n",
              "15  7.913940  2.855638\n",
              "16  7.185541  2.692211\n",
              "17  8.325675  2.024642"
            ],
            "text/html": [
              "\n",
              "  <div id=\"df-87c13744-5203-4b88-b8e5-32ee1a097fca\" class=\"colab-df-container\">\n",
              "    <div>\n",
              "<style scoped>\n",
              "    .dataframe tbody tr th:only-of-type {\n",
              "        vertical-align: middle;\n",
              "    }\n",
              "\n",
              "    .dataframe tbody tr th {\n",
              "        vertical-align: top;\n",
              "    }\n",
              "\n",
              "    .dataframe thead th {\n",
              "        text-align: right;\n",
              "    }\n",
              "</style>\n",
              "<table border=\"1\" class=\"dataframe\">\n",
              "  <thead>\n",
              "    <tr style=\"text-align: right;\">\n",
              "      <th></th>\n",
              "      <th>LAT_DD</th>\n",
              "      <th>LONG_DD</th>\n",
              "    </tr>\n",
              "  </thead>\n",
              "  <tbody>\n",
              "    <tr>\n",
              "      <th>0</th>\n",
              "      <td>2.126225</td>\n",
              "      <td>2.575606</td>\n",
              "    </tr>\n",
              "    <tr>\n",
              "      <th>1</th>\n",
              "      <td>2.555556</td>\n",
              "      <td>2.949874</td>\n",
              "    </tr>\n",
              "    <tr>\n",
              "      <th>2</th>\n",
              "      <td>3.403124</td>\n",
              "      <td>2.988645</td>\n",
              "    </tr>\n",
              "    <tr>\n",
              "      <th>3</th>\n",
              "      <td>4.008879</td>\n",
              "      <td>2.985221</td>\n",
              "    </tr>\n",
              "    <tr>\n",
              "      <th>4</th>\n",
              "      <td>4.172219</td>\n",
              "      <td>2.397277</td>\n",
              "    </tr>\n",
              "    <tr>\n",
              "      <th>5</th>\n",
              "      <td>3.473178</td>\n",
              "      <td>2.091429</td>\n",
              "    </tr>\n",
              "    <tr>\n",
              "      <th>6</th>\n",
              "      <td>1.938382</td>\n",
              "      <td>2.327373</td>\n",
              "    </tr>\n",
              "    <tr>\n",
              "      <th>7</th>\n",
              "      <td>1.647625</td>\n",
              "      <td>8.383019</td>\n",
              "    </tr>\n",
              "    <tr>\n",
              "      <th>8</th>\n",
              "      <td>1.913161</td>\n",
              "      <td>8.067553</td>\n",
              "    </tr>\n",
              "    <tr>\n",
              "      <th>9</th>\n",
              "      <td>2.405434</td>\n",
              "      <td>7.637081</td>\n",
              "    </tr>\n",
              "    <tr>\n",
              "      <th>10</th>\n",
              "      <td>2.634529</td>\n",
              "      <td>6.643449</td>\n",
              "    </tr>\n",
              "    <tr>\n",
              "      <th>11</th>\n",
              "      <td>4.064531</td>\n",
              "      <td>6.009516</td>\n",
              "    </tr>\n",
              "    <tr>\n",
              "      <th>12</th>\n",
              "      <td>6.699862</td>\n",
              "      <td>6.054420</td>\n",
              "    </tr>\n",
              "    <tr>\n",
              "      <th>13</th>\n",
              "      <td>3.179937</td>\n",
              "      <td>2.523225</td>\n",
              "    </tr>\n",
              "    <tr>\n",
              "      <th>14</th>\n",
              "      <td>3.253868</td>\n",
              "      <td>2.659887</td>\n",
              "    </tr>\n",
              "    <tr>\n",
              "      <th>15</th>\n",
              "      <td>7.913940</td>\n",
              "      <td>2.855638</td>\n",
              "    </tr>\n",
              "    <tr>\n",
              "      <th>16</th>\n",
              "      <td>7.185541</td>\n",
              "      <td>2.692211</td>\n",
              "    </tr>\n",
              "    <tr>\n",
              "      <th>17</th>\n",
              "      <td>8.325675</td>\n",
              "      <td>2.024642</td>\n",
              "    </tr>\n",
              "  </tbody>\n",
              "</table>\n",
              "</div>\n",
              "    <div class=\"colab-df-buttons\">\n",
              "\n",
              "  <div class=\"colab-df-container\">\n",
              "    <button class=\"colab-df-convert\" onclick=\"convertToInteractive('df-87c13744-5203-4b88-b8e5-32ee1a097fca')\"\n",
              "            title=\"Convert this dataframe to an interactive table.\"\n",
              "            style=\"display:none;\">\n",
              "\n",
              "  <svg xmlns=\"http://www.w3.org/2000/svg\" height=\"24px\" viewBox=\"0 -960 960 960\">\n",
              "    <path d=\"M120-120v-720h720v720H120Zm60-500h600v-160H180v160Zm220 220h160v-160H400v160Zm0 220h160v-160H400v160ZM180-400h160v-160H180v160Zm440 0h160v-160H620v160ZM180-180h160v-160H180v160Zm440 0h160v-160H620v160Z\"/>\n",
              "  </svg>\n",
              "    </button>\n",
              "\n",
              "  <style>\n",
              "    .colab-df-container {\n",
              "      display:flex;\n",
              "      gap: 12px;\n",
              "    }\n",
              "\n",
              "    .colab-df-convert {\n",
              "      background-color: #E8F0FE;\n",
              "      border: none;\n",
              "      border-radius: 50%;\n",
              "      cursor: pointer;\n",
              "      display: none;\n",
              "      fill: #1967D2;\n",
              "      height: 32px;\n",
              "      padding: 0 0 0 0;\n",
              "      width: 32px;\n",
              "    }\n",
              "\n",
              "    .colab-df-convert:hover {\n",
              "      background-color: #E2EBFA;\n",
              "      box-shadow: 0px 1px 2px rgba(60, 64, 67, 0.3), 0px 1px 3px 1px rgba(60, 64, 67, 0.15);\n",
              "      fill: #174EA6;\n",
              "    }\n",
              "\n",
              "    .colab-df-buttons div {\n",
              "      margin-bottom: 4px;\n",
              "    }\n",
              "\n",
              "    [theme=dark] .colab-df-convert {\n",
              "      background-color: #3B4455;\n",
              "      fill: #D2E3FC;\n",
              "    }\n",
              "\n",
              "    [theme=dark] .colab-df-convert:hover {\n",
              "      background-color: #434B5C;\n",
              "      box-shadow: 0px 1px 3px 1px rgba(0, 0, 0, 0.15);\n",
              "      filter: drop-shadow(0px 1px 2px rgba(0, 0, 0, 0.3));\n",
              "      fill: #FFFFFF;\n",
              "    }\n",
              "  </style>\n",
              "\n",
              "    <script>\n",
              "      const buttonEl =\n",
              "        document.querySelector('#df-87c13744-5203-4b88-b8e5-32ee1a097fca button.colab-df-convert');\n",
              "      buttonEl.style.display =\n",
              "        google.colab.kernel.accessAllowed ? 'block' : 'none';\n",
              "\n",
              "      async function convertToInteractive(key) {\n",
              "        const element = document.querySelector('#df-87c13744-5203-4b88-b8e5-32ee1a097fca');\n",
              "        const dataTable =\n",
              "          await google.colab.kernel.invokeFunction('convertToInteractive',\n",
              "                                                    [key], {});\n",
              "        if (!dataTable) return;\n",
              "\n",
              "        const docLinkHtml = 'Like what you see? Visit the ' +\n",
              "          '<a target=\"_blank\" href=https://colab.research.google.com/notebooks/data_table.ipynb>data table notebook</a>'\n",
              "          + ' to learn more about interactive tables.';\n",
              "        element.innerHTML = '';\n",
              "        dataTable['output_type'] = 'display_data';\n",
              "        await google.colab.output.renderOutput(dataTable, element);\n",
              "        const docLink = document.createElement('div');\n",
              "        docLink.innerHTML = docLinkHtml;\n",
              "        element.appendChild(docLink);\n",
              "      }\n",
              "    </script>\n",
              "  </div>\n",
              "\n",
              "\n",
              "<div id=\"df-22bdc49c-e94f-4e68-a32d-60274956427c\">\n",
              "  <button class=\"colab-df-quickchart\" onclick=\"quickchart('df-22bdc49c-e94f-4e68-a32d-60274956427c')\"\n",
              "            title=\"Suggest charts\"\n",
              "            style=\"display:none;\">\n",
              "\n",
              "<svg xmlns=\"http://www.w3.org/2000/svg\" height=\"24px\"viewBox=\"0 0 24 24\"\n",
              "     width=\"24px\">\n",
              "    <g>\n",
              "        <path d=\"M19 3H5c-1.1 0-2 .9-2 2v14c0 1.1.9 2 2 2h14c1.1 0 2-.9 2-2V5c0-1.1-.9-2-2-2zM9 17H7v-7h2v7zm4 0h-2V7h2v10zm4 0h-2v-4h2v4z\"/>\n",
              "    </g>\n",
              "</svg>\n",
              "  </button>\n",
              "\n",
              "<style>\n",
              "  .colab-df-quickchart {\n",
              "      --bg-color: #E8F0FE;\n",
              "      --fill-color: #1967D2;\n",
              "      --hover-bg-color: #E2EBFA;\n",
              "      --hover-fill-color: #174EA6;\n",
              "      --disabled-fill-color: #AAA;\n",
              "      --disabled-bg-color: #DDD;\n",
              "  }\n",
              "\n",
              "  [theme=dark] .colab-df-quickchart {\n",
              "      --bg-color: #3B4455;\n",
              "      --fill-color: #D2E3FC;\n",
              "      --hover-bg-color: #434B5C;\n",
              "      --hover-fill-color: #FFFFFF;\n",
              "      --disabled-bg-color: #3B4455;\n",
              "      --disabled-fill-color: #666;\n",
              "  }\n",
              "\n",
              "  .colab-df-quickchart {\n",
              "    background-color: var(--bg-color);\n",
              "    border: none;\n",
              "    border-radius: 50%;\n",
              "    cursor: pointer;\n",
              "    display: none;\n",
              "    fill: var(--fill-color);\n",
              "    height: 32px;\n",
              "    padding: 0;\n",
              "    width: 32px;\n",
              "  }\n",
              "\n",
              "  .colab-df-quickchart:hover {\n",
              "    background-color: var(--hover-bg-color);\n",
              "    box-shadow: 0 1px 2px rgba(60, 64, 67, 0.3), 0 1px 3px 1px rgba(60, 64, 67, 0.15);\n",
              "    fill: var(--button-hover-fill-color);\n",
              "  }\n",
              "\n",
              "  .colab-df-quickchart-complete:disabled,\n",
              "  .colab-df-quickchart-complete:disabled:hover {\n",
              "    background-color: var(--disabled-bg-color);\n",
              "    fill: var(--disabled-fill-color);\n",
              "    box-shadow: none;\n",
              "  }\n",
              "\n",
              "  .colab-df-spinner {\n",
              "    border: 2px solid var(--fill-color);\n",
              "    border-color: transparent;\n",
              "    border-bottom-color: var(--fill-color);\n",
              "    animation:\n",
              "      spin 1s steps(1) infinite;\n",
              "  }\n",
              "\n",
              "  @keyframes spin {\n",
              "    0% {\n",
              "      border-color: transparent;\n",
              "      border-bottom-color: var(--fill-color);\n",
              "      border-left-color: var(--fill-color);\n",
              "    }\n",
              "    20% {\n",
              "      border-color: transparent;\n",
              "      border-left-color: var(--fill-color);\n",
              "      border-top-color: var(--fill-color);\n",
              "    }\n",
              "    30% {\n",
              "      border-color: transparent;\n",
              "      border-left-color: var(--fill-color);\n",
              "      border-top-color: var(--fill-color);\n",
              "      border-right-color: var(--fill-color);\n",
              "    }\n",
              "    40% {\n",
              "      border-color: transparent;\n",
              "      border-right-color: var(--fill-color);\n",
              "      border-top-color: var(--fill-color);\n",
              "    }\n",
              "    60% {\n",
              "      border-color: transparent;\n",
              "      border-right-color: var(--fill-color);\n",
              "    }\n",
              "    80% {\n",
              "      border-color: transparent;\n",
              "      border-right-color: var(--fill-color);\n",
              "      border-bottom-color: var(--fill-color);\n",
              "    }\n",
              "    90% {\n",
              "      border-color: transparent;\n",
              "      border-bottom-color: var(--fill-color);\n",
              "    }\n",
              "  }\n",
              "</style>\n",
              "\n",
              "  <script>\n",
              "    async function quickchart(key) {\n",
              "      const quickchartButtonEl =\n",
              "        document.querySelector('#' + key + ' button');\n",
              "      quickchartButtonEl.disabled = true;  // To prevent multiple clicks.\n",
              "      quickchartButtonEl.classList.add('colab-df-spinner');\n",
              "      try {\n",
              "        const charts = await google.colab.kernel.invokeFunction(\n",
              "            'suggestCharts', [key], {});\n",
              "      } catch (error) {\n",
              "        console.error('Error during call to suggestCharts:', error);\n",
              "      }\n",
              "      quickchartButtonEl.classList.remove('colab-df-spinner');\n",
              "      quickchartButtonEl.classList.add('colab-df-quickchart-complete');\n",
              "    }\n",
              "    (() => {\n",
              "      let quickchartButtonEl =\n",
              "        document.querySelector('#df-22bdc49c-e94f-4e68-a32d-60274956427c button');\n",
              "      quickchartButtonEl.style.display =\n",
              "        google.colab.kernel.accessAllowed ? 'block' : 'none';\n",
              "    })();\n",
              "  </script>\n",
              "</div>\n",
              "    </div>\n",
              "  </div>\n"
            ],
            "application/vnd.google.colaboratory.intrinsic+json": {
              "type": "dataframe",
              "summary": "{\n  \"name\": \")\",\n  \"rows\": 18,\n  \"fields\": [\n    {\n      \"column\": \"LAT_DD\",\n      \"properties\": {\n        \"dtype\": \"number\",\n        \"std\": 2.134322758719428,\n        \"min\": 1.647624552437329,\n        \"max\": 8.325675494270815,\n        \"num_unique_values\": 18,\n        \"samples\": [\n          2.1262251371611254,\n          2.555555555575579,\n          1.9131610451805166\n        ],\n        \"semantic_type\": \"\",\n        \"description\": \"\"\n      }\n    },\n    {\n      \"column\": \"LONG_DD\",\n      \"properties\": {\n        \"dtype\": \"number\",\n        \"std\": 2.2897388654910995,\n        \"min\": 2.0246415864828355,\n        \"max\": 8.383018549424973,\n        \"num_unique_values\": 18,\n        \"samples\": [\n          2.5756057260320886,\n          2.9498736220325132,\n          8.067553325926708\n        ],\n        \"semantic_type\": \"\",\n        \"description\": \"\"\n      }\n    }\n  ]\n}"
            }
          },
          "metadata": {}
        },
        {
          "output_type": "display_data",
          "data": {
            "text/plain": [
              "Map(center=[52.24886, 0.16025], controls=(ZoomControl(options=['position', 'zoom_in_text', 'zoom_in_title', 'z…"
            ],
            "application/vnd.jupyter.widget-view+json": {
              "version_major": 2,
              "version_minor": 0,
              "model_id": "80779ac7f89c40f887d1f1b8e7c874dc"
            }
          },
          "metadata": {
            "application/vnd.jupyter.widget-view+json": {
              "colab": {
                "custom_widget_manager": {
                  "url": "https://ssl.gstatic.com/colaboratory-static/widgets/colab-cdn-widget-manager/2b70e893a8ba7c0f/manager.min.js"
                }
              }
            }
          }
        }
      ]
    },
    {
      "cell_type": "markdown",
      "source": [
        "## Modified Z-Score With Geometric Median\n",
        "\n",
        "Identifies all points as outliers with threshold of 2. Cannot use a sliding window and must identify outliers in the context of the whole trajectory, due to the nature of calculating the Geometric Median."
      ],
      "metadata": {
        "id": "DYQGU_1UHXXv"
      }
    },
    {
      "cell_type": "code",
      "source": [
        "m_3 = leaf.Map(\n",
        "    center=[52.24886, 0.16025],\n",
        "    zoom=18,\n",
        "    layout=widgets.Layout(height=\"500px\", width=\"400px\"),\n",
        "    scroll_wheel_zoom=True,\n",
        ")\n",
        "\n",
        "m_3.add(leaf.GeoJSON(\n",
        "    data=json.loads(\n",
        "        trajectory_geo_modified_zscore(X, mad_sigma=2.0)\n",
        "            .to_json()),\n",
        "    style_callback=style_fn,\n",
        "    point_style={\n",
        "        \"color\": \"black\",\n",
        "        \"fillColor\": \"blue\",\n",
        "        \"fillOpacity\": 0.7,\n",
        "        \"radius\": 7,\n",
        "        \"weight\": 1,\n",
        "    }\n",
        "))\n",
        "\n",
        "m_3.add(\n",
        "    leaf.Polyline(\n",
        "        locations=[\n",
        "            sorted(xy, reverse=True)\n",
        "            for xy in np.stack(LineString(X.GEOMETRY).xy, axis=1)\n",
        "        ],\n",
        "        fill=False\n",
        "    )\n",
        ")"
      ],
      "metadata": {
        "id": "Dx-AGGO3Sl1B",
        "colab": {
          "base_uri": "https://localhost:8080/",
          "height": 521,
          "referenced_widgets": [
            "468c3be049c145718ed3b82b822864df",
            "5f35b7ebf58442ba9aff8e76878b5ea8",
            "07c31653631a45ca85b9526f8008c9b1",
            "feae75d5b9d0447ba10a24996ba9941b",
            "d55a6b54aee34baa8a5ffd736ac2d7d4",
            "8fea8469ffa546f6a3db678bc7c66731",
            "a53b31674c054171953999731a0cc609",
            "8ff6d286952b48c1945f5b584f6ff8af",
            "6c164feb958d4ada958787c40c369d77",
            "de70c5e016d04bc08ff9f26975d5b900"
          ]
        },
        "outputId": "54afd819-bd18-4771-887c-1ce86a7f0765"
      },
      "execution_count": 245,
      "outputs": [
        {
          "output_type": "display_data",
          "data": {
            "text/plain": [
              "Map(center=[52.24886, 0.16025], controls=(ZoomControl(options=['position', 'zoom_in_text', 'zoom_in_title', 'z…"
            ],
            "application/vnd.jupyter.widget-view+json": {
              "version_major": 2,
              "version_minor": 0,
              "model_id": "468c3be049c145718ed3b82b822864df"
            }
          },
          "metadata": {
            "application/vnd.jupyter.widget-view+json": {
              "colab": {
                "custom_widget_manager": {
                  "url": "https://ssl.gstatic.com/colaboratory-static/widgets/colab-cdn-widget-manager/2b70e893a8ba7c0f/manager.min.js"
                }
              }
            }
          }
        }
      ]
    },
    {
      "cell_type": "code",
      "source": [],
      "metadata": {
        "id": "0WjtFFRyHss4"
      },
      "execution_count": null,
      "outputs": []
    }
  ]
}